{
 "cells": [
  {
   "cell_type": "code",
   "execution_count": 1,
   "id": "6fb1896d",
   "metadata": {},
   "outputs": [],
   "source": [
    "import numpy as np\n",
    "import pandas as pd\n",
    "\n",
    "import matplotlib.pyplot as plt\n",
    "import graphviz #visusalize the decision tree\n"
   ]
  },
  {
   "cell_type": "code",
   "execution_count": 2,
   "id": "0340cb84",
   "metadata": {},
   "outputs": [],
   "source": [
    "#pip install graphviz"
   ]
  },
  {
   "cell_type": "code",
   "execution_count": 3,
   "id": "ebc43e2f",
   "metadata": {},
   "outputs": [],
   "source": [
    "#conda install python-graphviz"
   ]
  },
  {
   "cell_type": "code",
   "execution_count": 4,
   "id": "4b2faaa5",
   "metadata": {},
   "outputs": [],
   "source": [
    "df = pd.read_csv('df_final_chapter_1.csv')\n",
    "#df.columns.tolist()"
   ]
  },
  {
   "cell_type": "code",
   "execution_count": 5,
   "id": "7ff42bd7",
   "metadata": {},
   "outputs": [],
   "source": [
    "df = df.drop('Unnamed: 0', axis = 1)"
   ]
  },
  {
   "cell_type": "code",
   "execution_count": 6,
   "id": "ce587cb9",
   "metadata": {},
   "outputs": [],
   "source": [
    "items_to_remove = ['ID', 'SEX',\n",
    "       'PAY_2', 'PAY_3', 'PAY_4', 'PAY_5', 'PAY_6',  'EDUCATION_CAT', 'graduate school',\n",
    "       'high school', 'others', 'university']"
   ]
  },
  {
   "cell_type": "code",
   "execution_count": 7,
   "id": "78e86d10",
   "metadata": {},
   "outputs": [],
   "source": [
    "features = df.columns.tolist()"
   ]
  },
  {
   "cell_type": "code",
   "execution_count": 8,
   "id": "a67177bb",
   "metadata": {},
   "outputs": [
    {
     "data": {
      "text/plain": [
       "['LIMIT_BAL',\n",
       " 'EDUCATION',\n",
       " 'MARRIAGE',\n",
       " 'AGE',\n",
       " 'PAY_1',\n",
       " 'BILL_AMT1',\n",
       " 'BILL_AMT2',\n",
       " 'BILL_AMT3',\n",
       " 'BILL_AMT4',\n",
       " 'BILL_AMT5',\n",
       " 'BILL_AMT6',\n",
       " 'PAY_AMT1',\n",
       " 'PAY_AMT2',\n",
       " 'PAY_AMT3',\n",
       " 'PAY_AMT4',\n",
       " 'PAY_AMT5',\n",
       " 'PAY_AMT6',\n",
       " 'default payment next month']"
      ]
     },
     "execution_count": 8,
     "metadata": {},
     "output_type": "execute_result"
    }
   ],
   "source": [
    "feature_response = []\n",
    "for item in features:\n",
    "    if item not in items_to_remove:\n",
    "        feature_response.append(item)\n",
    "        \n",
    "feature_response"
   ]
  },
  {
   "cell_type": "code",
   "execution_count": 9,
   "id": "570457a6",
   "metadata": {},
   "outputs": [],
   "source": [
    "from sklearn.model_selection import train_test_split"
   ]
  },
  {
   "cell_type": "code",
   "execution_count": 10,
   "id": "13d0dd0f",
   "metadata": {},
   "outputs": [
    {
     "data": {
      "text/plain": [
       "Index(['LIMIT_BAL', 'EDUCATION', 'MARRIAGE', 'AGE', 'PAY_1', 'BILL_AMT1',\n",
       "       'BILL_AMT2', 'BILL_AMT3', 'BILL_AMT4', 'BILL_AMT5', 'BILL_AMT6',\n",
       "       'PAY_AMT1', 'PAY_AMT2', 'PAY_AMT3', 'PAY_AMT4', 'PAY_AMT5', 'PAY_AMT6'],\n",
       "      dtype='object')"
      ]
     },
     "execution_count": 10,
     "metadata": {},
     "output_type": "execute_result"
    }
   ],
   "source": [
    "df[feature_response[:-1]].columns"
   ]
  },
  {
   "cell_type": "code",
   "execution_count": 11,
   "id": "1c6bfc43",
   "metadata": {},
   "outputs": [],
   "source": [
    "x_train, x_test, y_train, y_test = train_test_split(df[feature_response[:-1]].values, df['default payment next month'].values, test_size= 0.2, random_state= 24)"
   ]
  },
  {
   "cell_type": "code",
   "execution_count": 12,
   "id": "0b5bc32b",
   "metadata": {},
   "outputs": [],
   "source": [
    "from sklearn import tree"
   ]
  },
  {
   "cell_type": "code",
   "execution_count": 13,
   "id": "5f6a538f",
   "metadata": {},
   "outputs": [],
   "source": [
    "dt = tree.DecisionTreeClassifier(max_depth= 2)"
   ]
  },
  {
   "cell_type": "code",
   "execution_count": 14,
   "id": "683d7377",
   "metadata": {},
   "outputs": [
    {
     "data": {
      "text/plain": [
       "DecisionTreeClassifier(max_depth=2)"
      ]
     },
     "execution_count": 14,
     "metadata": {},
     "output_type": "execute_result"
    }
   ],
   "source": [
    "dt.fit(x_train,y_train)"
   ]
  },
  {
   "cell_type": "code",
   "execution_count": 15,
   "id": "b8297b75",
   "metadata": {},
   "outputs": [],
   "source": [
    "dot_data = tree.export_graphviz(dt,\n",
    "                                out_file = None,\n",
    "                                filled = True,\n",
    "                               rounded = True,\n",
    "                               feature_names = feature_response[:-1],\n",
    "                               proportion = True,\n",
    "                               class_names = [ 'Not defaulted','Defaulted']\n",
    "                       \n",
    ")"
   ]
  },
  {
   "cell_type": "code",
   "execution_count": 16,
   "id": "c284757d",
   "metadata": {
    "scrolled": false
   },
   "outputs": [
    {
     "data": {
      "image/svg+xml": [
       "<?xml version=\"1.0\" encoding=\"UTF-8\" standalone=\"no\"?>\n",
       "<!DOCTYPE svg PUBLIC \"-//W3C//DTD SVG 1.1//EN\"\n",
       " \"http://www.w3.org/Graphics/SVG/1.1/DTD/svg11.dtd\">\n",
       "<!-- Generated by graphviz version 2.50.0 (0)\n",
       " -->\n",
       "<!-- Title: Tree Pages: 1 -->\n",
       "<svg width=\"650pt\" height=\"314pt\"\n",
       " viewBox=\"0.00 0.00 650.00 314.00\" xmlns=\"http://www.w3.org/2000/svg\" xmlns:xlink=\"http://www.w3.org/1999/xlink\">\n",
       "<g id=\"graph0\" class=\"graph\" transform=\"scale(1 1) rotate(0) translate(4 310)\">\n",
       "<title>Tree</title>\n",
       "<polygon fill=\"white\" stroke=\"transparent\" points=\"-4,4 -4,-310 646,-310 646,4 -4,4\"/>\n",
       "<!-- 0 -->\n",
       "<g id=\"node1\" class=\"node\">\n",
       "<title>0</title>\n",
       "<path fill=\"#eca572\" stroke=\"black\" d=\"M382,-306C382,-306 259,-306 259,-306 253,-306 247,-300 247,-294 247,-294 247,-235 247,-235 247,-229 253,-223 259,-223 259,-223 382,-223 382,-223 388,-223 394,-229 394,-235 394,-235 394,-294 394,-294 394,-300 388,-306 382,-306\"/>\n",
       "<text text-anchor=\"middle\" x=\"320.5\" y=\"-290.8\" font-family=\"Helvetica,sans-Serif\" font-size=\"14.00\">PAY_1 &lt;= 1.5</text>\n",
       "<text text-anchor=\"middle\" x=\"320.5\" y=\"-275.8\" font-family=\"Helvetica,sans-Serif\" font-size=\"14.00\">gini = 0.347</text>\n",
       "<text text-anchor=\"middle\" x=\"320.5\" y=\"-260.8\" font-family=\"Helvetica,sans-Serif\" font-size=\"14.00\">samples = 100.0%</text>\n",
       "<text text-anchor=\"middle\" x=\"320.5\" y=\"-245.8\" font-family=\"Helvetica,sans-Serif\" font-size=\"14.00\">value = [0.777, 0.223]</text>\n",
       "<text text-anchor=\"middle\" x=\"320.5\" y=\"-230.8\" font-family=\"Helvetica,sans-Serif\" font-size=\"14.00\">class = Not defaulted</text>\n",
       "</g>\n",
       "<!-- 1 -->\n",
       "<g id=\"node2\" class=\"node\">\n",
       "<title>1</title>\n",
       "<path fill=\"#ea9a61\" stroke=\"black\" d=\"M300,-187C300,-187 177,-187 177,-187 171,-187 165,-181 165,-175 165,-175 165,-116 165,-116 165,-110 171,-104 177,-104 177,-104 300,-104 300,-104 306,-104 312,-110 312,-116 312,-116 312,-175 312,-175 312,-181 306,-187 300,-187\"/>\n",
       "<text text-anchor=\"middle\" x=\"238.5\" y=\"-171.8\" font-family=\"Helvetica,sans-Serif\" font-size=\"14.00\">PAY_1 &lt;= 0.5</text>\n",
       "<text text-anchor=\"middle\" x=\"238.5\" y=\"-156.8\" font-family=\"Helvetica,sans-Serif\" font-size=\"14.00\">gini = 0.277</text>\n",
       "<text text-anchor=\"middle\" x=\"238.5\" y=\"-141.8\" font-family=\"Helvetica,sans-Serif\" font-size=\"14.00\">samples = 89.5%</text>\n",
       "<text text-anchor=\"middle\" x=\"238.5\" y=\"-126.8\" font-family=\"Helvetica,sans-Serif\" font-size=\"14.00\">value = [0.834, 0.166]</text>\n",
       "<text text-anchor=\"middle\" x=\"238.5\" y=\"-111.8\" font-family=\"Helvetica,sans-Serif\" font-size=\"14.00\">class = Not defaulted</text>\n",
       "</g>\n",
       "<!-- 0&#45;&gt;1 -->\n",
       "<g id=\"edge1\" class=\"edge\">\n",
       "<title>0&#45;&gt;1</title>\n",
       "<path fill=\"none\" stroke=\"black\" d=\"M292.05,-222.91C285.82,-214.01 279.16,-204.51 272.72,-195.33\"/>\n",
       "<polygon fill=\"black\" stroke=\"black\" points=\"275.5,-193.2 266.9,-187.02 269.77,-197.22 275.5,-193.2\"/>\n",
       "<text text-anchor=\"middle\" x=\"262.57\" y=\"-207.94\" font-family=\"Helvetica,sans-Serif\" font-size=\"14.00\">True</text>\n",
       "</g>\n",
       "<!-- 4 -->\n",
       "<g id=\"node5\" class=\"node\">\n",
       "<title>4</title>\n",
       "<path fill=\"#8cc6f0\" stroke=\"black\" d=\"M465,-187C465,-187 342,-187 342,-187 336,-187 330,-181 330,-175 330,-175 330,-116 330,-116 330,-110 336,-104 342,-104 342,-104 465,-104 465,-104 471,-104 477,-110 477,-116 477,-116 477,-175 477,-175 477,-181 471,-187 465,-187\"/>\n",
       "<text text-anchor=\"middle\" x=\"403.5\" y=\"-171.8\" font-family=\"Helvetica,sans-Serif\" font-size=\"14.00\">BILL_AMT1 &lt;= 568.0</text>\n",
       "<text text-anchor=\"middle\" x=\"403.5\" y=\"-156.8\" font-family=\"Helvetica,sans-Serif\" font-size=\"14.00\">gini = 0.416</text>\n",
       "<text text-anchor=\"middle\" x=\"403.5\" y=\"-141.8\" font-family=\"Helvetica,sans-Serif\" font-size=\"14.00\">samples = 10.5%</text>\n",
       "<text text-anchor=\"middle\" x=\"403.5\" y=\"-126.8\" font-family=\"Helvetica,sans-Serif\" font-size=\"14.00\">value = [0.295, 0.705]</text>\n",
       "<text text-anchor=\"middle\" x=\"403.5\" y=\"-111.8\" font-family=\"Helvetica,sans-Serif\" font-size=\"14.00\">class = Defaulted</text>\n",
       "</g>\n",
       "<!-- 0&#45;&gt;4 -->\n",
       "<g id=\"edge4\" class=\"edge\">\n",
       "<title>0&#45;&gt;4</title>\n",
       "<path fill=\"none\" stroke=\"black\" d=\"M349.3,-222.91C355.61,-214.01 362.35,-204.51 368.86,-195.33\"/>\n",
       "<polygon fill=\"black\" stroke=\"black\" points=\"371.82,-197.2 374.75,-187.02 366.11,-193.15 371.82,-197.2\"/>\n",
       "<text text-anchor=\"middle\" x=\"378.94\" y=\"-207.97\" font-family=\"Helvetica,sans-Serif\" font-size=\"14.00\">False</text>\n",
       "</g>\n",
       "<!-- 2 -->\n",
       "<g id=\"node3\" class=\"node\">\n",
       "<title>2</title>\n",
       "<path fill=\"#e99559\" stroke=\"black\" d=\"M135,-68C135,-68 12,-68 12,-68 6,-68 0,-62 0,-56 0,-56 0,-12 0,-12 0,-6 6,0 12,0 12,0 135,0 135,0 141,0 147,-6 147,-12 147,-12 147,-56 147,-56 147,-62 141,-68 135,-68\"/>\n",
       "<text text-anchor=\"middle\" x=\"73.5\" y=\"-52.8\" font-family=\"Helvetica,sans-Serif\" font-size=\"14.00\">gini = 0.239</text>\n",
       "<text text-anchor=\"middle\" x=\"73.5\" y=\"-37.8\" font-family=\"Helvetica,sans-Serif\" font-size=\"14.00\">samples = 77.1%</text>\n",
       "<text text-anchor=\"middle\" x=\"73.5\" y=\"-22.8\" font-family=\"Helvetica,sans-Serif\" font-size=\"14.00\">value = [0.861, 0.139]</text>\n",
       "<text text-anchor=\"middle\" x=\"73.5\" y=\"-7.8\" font-family=\"Helvetica,sans-Serif\" font-size=\"14.00\">class = Not defaulted</text>\n",
       "</g>\n",
       "<!-- 1&#45;&gt;2 -->\n",
       "<g id=\"edge2\" class=\"edge\">\n",
       "<title>1&#45;&gt;2</title>\n",
       "<path fill=\"none\" stroke=\"black\" d=\"M177.06,-103.73C162.28,-93.92 146.53,-83.46 131.89,-73.75\"/>\n",
       "<polygon fill=\"black\" stroke=\"black\" points=\"133.68,-70.74 123.41,-68.13 129.81,-76.57 133.68,-70.74\"/>\n",
       "</g>\n",
       "<!-- 3 -->\n",
       "<g id=\"node4\" class=\"node\">\n",
       "<title>3</title>\n",
       "<path fill=\"#f2c29e\" stroke=\"black\" d=\"M300,-68C300,-68 177,-68 177,-68 171,-68 165,-62 165,-56 165,-56 165,-12 165,-12 165,-6 171,0 177,0 177,0 300,0 300,0 306,0 312,-6 312,-12 312,-12 312,-56 312,-56 312,-62 306,-68 300,-68\"/>\n",
       "<text text-anchor=\"middle\" x=\"238.5\" y=\"-52.8\" font-family=\"Helvetica,sans-Serif\" font-size=\"14.00\">gini = 0.448</text>\n",
       "<text text-anchor=\"middle\" x=\"238.5\" y=\"-37.8\" font-family=\"Helvetica,sans-Serif\" font-size=\"14.00\">samples = 12.4%</text>\n",
       "<text text-anchor=\"middle\" x=\"238.5\" y=\"-22.8\" font-family=\"Helvetica,sans-Serif\" font-size=\"14.00\">value = [0.661, 0.339]</text>\n",
       "<text text-anchor=\"middle\" x=\"238.5\" y=\"-7.8\" font-family=\"Helvetica,sans-Serif\" font-size=\"14.00\">class = Not defaulted</text>\n",
       "</g>\n",
       "<!-- 1&#45;&gt;3 -->\n",
       "<g id=\"edge3\" class=\"edge\">\n",
       "<title>1&#45;&gt;3</title>\n",
       "<path fill=\"none\" stroke=\"black\" d=\"M238.5,-103.73C238.5,-95.52 238.5,-86.86 238.5,-78.56\"/>\n",
       "<polygon fill=\"black\" stroke=\"black\" points=\"242,-78.3 238.5,-68.3 235,-78.3 242,-78.3\"/>\n",
       "</g>\n",
       "<!-- 5 -->\n",
       "<g id=\"node6\" class=\"node\">\n",
       "<title>5</title>\n",
       "<path fill=\"#f5d0b5\" stroke=\"black\" d=\"M465,-68C465,-68 342,-68 342,-68 336,-68 330,-62 330,-56 330,-56 330,-12 330,-12 330,-6 336,0 342,0 342,0 465,0 465,0 471,0 477,-6 477,-12 477,-12 477,-56 477,-56 477,-62 471,-68 465,-68\"/>\n",
       "<text text-anchor=\"middle\" x=\"403.5\" y=\"-52.8\" font-family=\"Helvetica,sans-Serif\" font-size=\"14.00\">gini = 0.473</text>\n",
       "<text text-anchor=\"middle\" x=\"403.5\" y=\"-37.8\" font-family=\"Helvetica,sans-Serif\" font-size=\"14.00\">samples = 0.3%</text>\n",
       "<text text-anchor=\"middle\" x=\"403.5\" y=\"-22.8\" font-family=\"Helvetica,sans-Serif\" font-size=\"14.00\">value = [0.615, 0.385]</text>\n",
       "<text text-anchor=\"middle\" x=\"403.5\" y=\"-7.8\" font-family=\"Helvetica,sans-Serif\" font-size=\"14.00\">class = Not defaulted</text>\n",
       "</g>\n",
       "<!-- 4&#45;&gt;5 -->\n",
       "<g id=\"edge5\" class=\"edge\">\n",
       "<title>4&#45;&gt;5</title>\n",
       "<path fill=\"none\" stroke=\"black\" d=\"M403.5,-103.73C403.5,-95.52 403.5,-86.86 403.5,-78.56\"/>\n",
       "<polygon fill=\"black\" stroke=\"black\" points=\"407,-78.3 403.5,-68.3 400,-78.3 407,-78.3\"/>\n",
       "</g>\n",
       "<!-- 6 -->\n",
       "<g id=\"node7\" class=\"node\">\n",
       "<title>6</title>\n",
       "<path fill=\"#88c4ef\" stroke=\"black\" d=\"M630,-68C630,-68 507,-68 507,-68 501,-68 495,-62 495,-56 495,-56 495,-12 495,-12 495,-6 501,0 507,0 507,0 630,0 630,0 636,0 642,-6 642,-12 642,-12 642,-56 642,-56 642,-62 636,-68 630,-68\"/>\n",
       "<text text-anchor=\"middle\" x=\"568.5\" y=\"-52.8\" font-family=\"Helvetica,sans-Serif\" font-size=\"14.00\">gini = 0.408</text>\n",
       "<text text-anchor=\"middle\" x=\"568.5\" y=\"-37.8\" font-family=\"Helvetica,sans-Serif\" font-size=\"14.00\">samples = 10.2%</text>\n",
       "<text text-anchor=\"middle\" x=\"568.5\" y=\"-22.8\" font-family=\"Helvetica,sans-Serif\" font-size=\"14.00\">value = [0.286, 0.714]</text>\n",
       "<text text-anchor=\"middle\" x=\"568.5\" y=\"-7.8\" font-family=\"Helvetica,sans-Serif\" font-size=\"14.00\">class = Defaulted</text>\n",
       "</g>\n",
       "<!-- 4&#45;&gt;6 -->\n",
       "<g id=\"edge6\" class=\"edge\">\n",
       "<title>4&#45;&gt;6</title>\n",
       "<path fill=\"none\" stroke=\"black\" d=\"M464.94,-103.73C479.72,-93.92 495.47,-83.46 510.11,-73.75\"/>\n",
       "<polygon fill=\"black\" stroke=\"black\" points=\"512.19,-76.57 518.59,-68.13 508.32,-70.74 512.19,-76.57\"/>\n",
       "</g>\n",
       "</g>\n",
       "</svg>\n"
      ],
      "text/plain": [
       "<graphviz.sources.Source at 0x22aa70727f0>"
      ]
     },
     "execution_count": 16,
     "metadata": {},
     "output_type": "execute_result"
    }
   ],
   "source": [
    "graph  = graphviz.Source(dot_data)\n",
    "graph"
   ]
  },
  {
   "cell_type": "code",
   "execution_count": 17,
   "id": "3eaaa79d",
   "metadata": {},
   "outputs": [
    {
     "data": {
      "text/plain": [
       "4"
      ]
     },
     "execution_count": 17,
     "metadata": {},
     "output_type": "execute_result"
    }
   ],
   "source": [
    "feature_response[:-1].index('PAY_1')"
   ]
  },
  {
   "cell_type": "code",
   "execution_count": 18,
   "id": "fc2f7f1d",
   "metadata": {},
   "outputs": [
    {
     "data": {
      "text/plain": [
       "(21331, 17)"
      ]
     },
     "execution_count": 18,
     "metadata": {},
     "output_type": "execute_result"
    }
   ],
   "source": [
    "x_train.shape"
   ]
  },
  {
   "cell_type": "code",
   "execution_count": 19,
   "id": "7eda8aae",
   "metadata": {},
   "outputs": [
    {
     "data": {
      "text/plain": [
       "89.5"
      ]
     },
     "execution_count": 19,
     "metadata": {},
     "output_type": "execute_result"
    }
   ],
   "source": [
    "((sum(x_train[:,4] <= 1.5 )/x_train.shape[0])*100).round(1)"
   ]
  },
  {
   "cell_type": "code",
   "execution_count": 20,
   "id": "3ad7d343",
   "metadata": {},
   "outputs": [
    {
     "data": {
      "text/plain": [
       "0.223102526838873"
      ]
     },
     "execution_count": 20,
     "metadata": {},
     "output_type": "execute_result"
    }
   ],
   "source": [
    "y_train.mean()"
   ]
  },
  {
   "cell_type": "code",
   "execution_count": 21,
   "id": "83599714",
   "metadata": {},
   "outputs": [],
   "source": [
    "pm0 = np.linspace(0.01,0.99,99)\n",
    "pm1 = 1 - pm0"
   ]
  },
  {
   "cell_type": "code",
   "execution_count": 22,
   "id": "90ad9abd",
   "metadata": {},
   "outputs": [],
   "source": [
    "misclassification_rate = np.minimum(pm0,pm1)"
   ]
  },
  {
   "cell_type": "code",
   "execution_count": 23,
   "id": "3182b9f3",
   "metadata": {},
   "outputs": [
    {
     "data": {
      "text/plain": [
       "<matplotlib.legend.Legend at 0x22aa70827c0>"
      ]
     },
     "execution_count": 23,
     "metadata": {},
     "output_type": "execute_result"
    },
    {
     "data": {
      "image/png": "[encoded data removed]",
      "text/plain": [
       "<Figure size 640x480 with 1 Axes>"
      ]
     },
     "metadata": {},
     "output_type": "display_data"
    }
   ],
   "source": [
    "plt.plot(pm0, misclassification_rate, label = 'Misclassification rate')\n",
    "plt.xlabel('pm0')\n",
    "plt.ylabel('Misclassification rate')\n",
    "plt.legend()"
   ]
  },
  {
   "cell_type": "code",
   "execution_count": 24,
   "id": "c91df722",
   "metadata": {},
   "outputs": [],
   "source": [
    "## as negative class increases, the misclassification increases until 0.5\n"
   ]
  },
  {
   "cell_type": "code",
   "execution_count": 25,
   "id": "9fa7ee2f",
   "metadata": {},
   "outputs": [],
   "source": [
    "gini = pm0*(1-pm0) + pm1*(1-pm1)\n",
    "cross_entropy = -1*((pm0*np.log(pm0)) + (pm1*np.log(pm1)))"
   ]
  },
  {
   "cell_type": "code",
   "execution_count": 26,
   "id": "c3543c59",
   "metadata": {},
   "outputs": [
    {
     "data": {
      "text/plain": [
       "<matplotlib.legend.Legend at 0x22aa7c5b760>"
      ]
     },
     "execution_count": 26,
     "metadata": {},
     "output_type": "execute_result"
    },
    {
     "data": {
      "image/png": "[encoded data removed]",
      "text/plain": [
       "<Figure size 640x480 with 1 Axes>"
      ]
     },
     "metadata": {},
     "output_type": "display_data"
    }
   ],
   "source": [
    "plt.plot(pm0, misclassification_rate, label = 'Misclassification rate')\n",
    "plt.plot(pm0, gini, label = 'gini impurity')\n",
    "plt.plot(pm0,cross_entropy, label = 'cross_entropy')\n",
    "plt.xlabel('pm0')\n",
    "plt.ylabel('Misclassification rate')\n",
    "plt.legend()"
   ]
  },
  {
   "cell_type": "code",
   "execution_count": 27,
   "id": "63263660",
   "metadata": {},
   "outputs": [],
   "source": [
    "from sklearn.datasets import make_circles"
   ]
  },
  {
   "cell_type": "code",
   "execution_count": 28,
   "id": "f6136ed3",
   "metadata": {},
   "outputs": [],
   "source": [
    "x_cir, y_cir = make_circles(n_samples= 333, shuffle=True, random_state= 1, factor=0.4, noise = 0.1)"
   ]
  },
  {
   "cell_type": "code",
   "execution_count": 29,
   "id": "d066c500",
   "metadata": {},
   "outputs": [],
   "source": [
    "from matplotlib.colors import ListedColormap"
   ]
  },
  {
   "cell_type": "code",
   "execution_count": 30,
   "id": "de24dd32",
   "metadata": {},
   "outputs": [
    {
     "data": {
      "text/plain": [
       "<matplotlib.collections.PathCollection at 0x22aa7d96b80>"
      ]
     },
     "execution_count": 30,
     "metadata": {},
     "output_type": "execute_result"
    },
    {
     "data": {
      "image/png": "[encoded data removed]",
      "text/plain": [
       "<Figure size 640x480 with 1 Axes>"
      ]
     },
     "metadata": {},
     "output_type": "display_data"
    }
   ],
   "source": [
    "plt.scatter(x_cir[:,0], x_cir[:,1], c = y_cir)"
   ]
  },
  {
   "cell_type": "code",
   "execution_count": 31,
   "id": "a2bdf91b",
   "metadata": {},
   "outputs": [],
   "source": [
    "from sklearn.model_selection import GridSearchCV"
   ]
  },
  {
   "cell_type": "code",
   "execution_count": 32,
   "id": "308af398",
   "metadata": {},
   "outputs": [
    {
     "data": {
      "text/plain": [
       "(21331, 17)"
      ]
     },
     "execution_count": 32,
     "metadata": {},
     "output_type": "execute_result"
    }
   ],
   "source": [
    "x_train.shape"
   ]
  },
  {
   "cell_type": "code",
   "execution_count": 38,
   "id": "be003b3e",
   "metadata": {},
   "outputs": [],
   "source": [
    "# for the gridsearch input\n",
    "\n",
    "params = {'max_depth':[1,2,4,6,8,10,12]}"
   ]
  },
  {
   "cell_type": "code",
   "execution_count": 39,
   "id": "bd26ef27",
   "metadata": {},
   "outputs": [],
   "source": [
    "# instantiate the GridSearchCV for cross validation\n",
    "\n",
    "cv = GridSearchCV(dt, params,scoring= 'roc_auc',n_jobs=None, refit=True, cv = 4, verbose = 1, \\\n",
    "                  pre_dispatch=None, error_score=np.nan, return_train_score=True   )\n"
   ]
  },
  {
   "cell_type": "code",
   "execution_count": 40,
   "id": "d78339a8",
   "metadata": {},
   "outputs": [
    {
     "name": "stdout",
     "output_type": "stream",
     "text": [
      "Fitting 4 folds for each of 7 candidates, totalling 28 fits\n"
     ]
    },
    {
     "data": {
      "text/plain": [
       "GridSearchCV(cv=4, estimator=DecisionTreeClassifier(max_depth=2),\n",
       "             param_grid={'max_depth': [1, 2, 4, 6, 8, 10, 12]},\n",
       "             pre_dispatch=None, return_train_score=True, scoring='roc_auc',\n",
       "             verbose=1)"
      ]
     },
     "execution_count": 40,
     "metadata": {},
     "output_type": "execute_result"
    }
   ],
   "source": [
    "cv.fit(x_train, y_train)"
   ]
  },
  {
   "cell_type": "code",
   "execution_count": null,
   "id": "b2ed2eb9",
   "metadata": {},
   "outputs": [],
   "source": []
  },
  {
   "cell_type": "code",
   "execution_count": 44,
   "id": "e0c2f8c9",
   "metadata": {},
   "outputs": [
    {
     "data": {
      "text/html": [
       "<div>\n",
       "<style scoped>\n",
       "    .dataframe tbody tr th:only-of-type {\n",
       "        vertical-align: middle;\n",
       "    }\n",
       "\n",
       "    .dataframe tbody tr th {\n",
       "        vertical-align: top;\n",
       "    }\n",
       "\n",
       "    .dataframe thead th {\n",
       "        text-align: right;\n",
       "    }\n",
       "</style>\n",
       "<table border=\"1\" class=\"dataframe\">\n",
       "  <thead>\n",
       "    <tr style=\"text-align: right;\">\n",
       "      <th></th>\n",
       "      <th>mean_fit_time</th>\n",
       "      <th>std_fit_time</th>\n",
       "      <th>mean_score_time</th>\n",
       "      <th>std_score_time</th>\n",
       "      <th>param_max_depth</th>\n",
       "      <th>params</th>\n",
       "      <th>split0_test_score</th>\n",
       "      <th>split1_test_score</th>\n",
       "      <th>split2_test_score</th>\n",
       "      <th>split3_test_score</th>\n",
       "      <th>mean_test_score</th>\n",
       "      <th>std_test_score</th>\n",
       "      <th>rank_test_score</th>\n",
       "      <th>split0_train_score</th>\n",
       "      <th>split1_train_score</th>\n",
       "      <th>split2_train_score</th>\n",
       "      <th>split3_train_score</th>\n",
       "      <th>mean_train_score</th>\n",
       "      <th>std_train_score</th>\n",
       "    </tr>\n",
       "  </thead>\n",
       "  <tbody>\n",
       "    <tr>\n",
       "      <th>0</th>\n",
       "      <td>0.020459</td>\n",
       "      <td>0.004664</td>\n",
       "      <td>0.000993</td>\n",
       "      <td>0.000993</td>\n",
       "      <td>1</td>\n",
       "      <td>{'max_depth': 1}</td>\n",
       "      <td>0.639514</td>\n",
       "      <td>0.643398</td>\n",
       "      <td>0.651891</td>\n",
       "      <td>0.650753</td>\n",
       "      <td>0.646389</td>\n",
       "      <td>0.005136</td>\n",
       "      <td>7</td>\n",
       "      <td>0.648680</td>\n",
       "      <td>0.647384</td>\n",
       "      <td>0.644553</td>\n",
       "      <td>0.644934</td>\n",
       "      <td>0.646388</td>\n",
       "      <td>0.001712</td>\n",
       "    </tr>\n",
       "    <tr>\n",
       "      <th>1</th>\n",
       "      <td>0.036108</td>\n",
       "      <td>0.004869</td>\n",
       "      <td>0.002768</td>\n",
       "      <td>0.003297</td>\n",
       "      <td>2</td>\n",
       "      <td>{'max_depth': 2}</td>\n",
       "      <td>0.695134</td>\n",
       "      <td>0.699022</td>\n",
       "      <td>0.713376</td>\n",
       "      <td>0.699510</td>\n",
       "      <td>0.701761</td>\n",
       "      <td>0.006917</td>\n",
       "      <td>5</td>\n",
       "      <td>0.704034</td>\n",
       "      <td>0.702700</td>\n",
       "      <td>0.698113</td>\n",
       "      <td>0.702535</td>\n",
       "      <td>0.701845</td>\n",
       "      <td>0.002232</td>\n",
       "    </tr>\n",
       "    <tr>\n",
       "      <th>2</th>\n",
       "      <td>0.071614</td>\n",
       "      <td>0.007656</td>\n",
       "      <td>0.003534</td>\n",
       "      <td>0.002613</td>\n",
       "      <td>4</td>\n",
       "      <td>{'max_depth': 4}</td>\n",
       "      <td>0.732720</td>\n",
       "      <td>0.740116</td>\n",
       "      <td>0.746946</td>\n",
       "      <td>0.743731</td>\n",
       "      <td>0.740878</td>\n",
       "      <td>0.005294</td>\n",
       "      <td>2</td>\n",
       "      <td>0.756882</td>\n",
       "      <td>0.752256</td>\n",
       "      <td>0.749368</td>\n",
       "      <td>0.753055</td>\n",
       "      <td>0.752890</td>\n",
       "      <td>0.002682</td>\n",
       "    </tr>\n",
       "    <tr>\n",
       "      <th>3</th>\n",
       "      <td>0.102966</td>\n",
       "      <td>0.003585</td>\n",
       "      <td>0.003781</td>\n",
       "      <td>0.002477</td>\n",
       "      <td>6</td>\n",
       "      <td>{'max_depth': 6}</td>\n",
       "      <td>0.744848</td>\n",
       "      <td>0.746825</td>\n",
       "      <td>0.751932</td>\n",
       "      <td>0.741356</td>\n",
       "      <td>0.746240</td>\n",
       "      <td>0.003825</td>\n",
       "      <td>1</td>\n",
       "      <td>0.782202</td>\n",
       "      <td>0.780044</td>\n",
       "      <td>0.775228</td>\n",
       "      <td>0.774776</td>\n",
       "      <td>0.778062</td>\n",
       "      <td>0.003158</td>\n",
       "    </tr>\n",
       "    <tr>\n",
       "      <th>4</th>\n",
       "      <td>0.126968</td>\n",
       "      <td>0.013506</td>\n",
       "      <td>0.001004</td>\n",
       "      <td>0.001004</td>\n",
       "      <td>8</td>\n",
       "      <td>{'max_depth': 8}</td>\n",
       "      <td>0.730029</td>\n",
       "      <td>0.733488</td>\n",
       "      <td>0.749597</td>\n",
       "      <td>0.728973</td>\n",
       "      <td>0.735522</td>\n",
       "      <td>0.008296</td>\n",
       "      <td>3</td>\n",
       "      <td>0.811811</td>\n",
       "      <td>0.808245</td>\n",
       "      <td>0.803415</td>\n",
       "      <td>0.802368</td>\n",
       "      <td>0.806460</td>\n",
       "      <td>0.003803</td>\n",
       "    </tr>\n",
       "    <tr>\n",
       "      <th>5</th>\n",
       "      <td>0.148945</td>\n",
       "      <td>0.003502</td>\n",
       "      <td>0.003035</td>\n",
       "      <td>0.000656</td>\n",
       "      <td>10</td>\n",
       "      <td>{'max_depth': 10}</td>\n",
       "      <td>0.707979</td>\n",
       "      <td>0.699952</td>\n",
       "      <td>0.718428</td>\n",
       "      <td>0.714838</td>\n",
       "      <td>0.710299</td>\n",
       "      <td>0.007056</td>\n",
       "      <td>4</td>\n",
       "      <td>0.848756</td>\n",
       "      <td>0.854468</td>\n",
       "      <td>0.841187</td>\n",
       "      <td>0.836461</td>\n",
       "      <td>0.845218</td>\n",
       "      <td>0.006910</td>\n",
       "    </tr>\n",
       "    <tr>\n",
       "      <th>6</th>\n",
       "      <td>0.170558</td>\n",
       "      <td>0.003614</td>\n",
       "      <td>0.001294</td>\n",
       "      <td>0.001329</td>\n",
       "      <td>12</td>\n",
       "      <td>{'max_depth': 12}</td>\n",
       "      <td>0.674800</td>\n",
       "      <td>0.656411</td>\n",
       "      <td>0.674334</td>\n",
       "      <td>0.685006</td>\n",
       "      <td>0.672638</td>\n",
       "      <td>0.010294</td>\n",
       "      <td>6</td>\n",
       "      <td>0.887673</td>\n",
       "      <td>0.903596</td>\n",
       "      <td>0.885533</td>\n",
       "      <td>0.875701</td>\n",
       "      <td>0.888125</td>\n",
       "      <td>0.010008</td>\n",
       "    </tr>\n",
       "  </tbody>\n",
       "</table>\n",
       "</div>"
      ],
      "text/plain": [
       "   mean_fit_time  std_fit_time  mean_score_time  std_score_time  \\\n",
       "0       0.020459      0.004664         0.000993        0.000993   \n",
       "1       0.036108      0.004869         0.002768        0.003297   \n",
       "2       0.071614      0.007656         0.003534        0.002613   \n",
       "3       0.102966      0.003585         0.003781        0.002477   \n",
       "4       0.126968      0.013506         0.001004        0.001004   \n",
       "5       0.148945      0.003502         0.003035        0.000656   \n",
       "6       0.170558      0.003614         0.001294        0.001329   \n",
       "\n",
       "  param_max_depth             params  split0_test_score  split1_test_score  \\\n",
       "0               1   {'max_depth': 1}           0.639514           0.643398   \n",
       "1               2   {'max_depth': 2}           0.695134           0.699022   \n",
       "2               4   {'max_depth': 4}           0.732720           0.740116   \n",
       "3               6   {'max_depth': 6}           0.744848           0.746825   \n",
       "4               8   {'max_depth': 8}           0.730029           0.733488   \n",
       "5              10  {'max_depth': 10}           0.707979           0.699952   \n",
       "6              12  {'max_depth': 12}           0.674800           0.656411   \n",
       "\n",
       "   split2_test_score  split3_test_score  mean_test_score  std_test_score  \\\n",
       "0           0.651891           0.650753         0.646389        0.005136   \n",
       "1           0.713376           0.699510         0.701761        0.006917   \n",
       "2           0.746946           0.743731         0.740878        0.005294   \n",
       "3           0.751932           0.741356         0.746240        0.003825   \n",
       "4           0.749597           0.728973         0.735522        0.008296   \n",
       "5           0.718428           0.714838         0.710299        0.007056   \n",
       "6           0.674334           0.685006         0.672638        0.010294   \n",
       "\n",
       "   rank_test_score  split0_train_score  split1_train_score  \\\n",
       "0                7            0.648680            0.647384   \n",
       "1                5            0.704034            0.702700   \n",
       "2                2            0.756882            0.752256   \n",
       "3                1            0.782202            0.780044   \n",
       "4                3            0.811811            0.808245   \n",
       "5                4            0.848756            0.854468   \n",
       "6                6            0.887673            0.903596   \n",
       "\n",
       "   split2_train_score  split3_train_score  mean_train_score  std_train_score  \n",
       "0            0.644553            0.644934          0.646388         0.001712  \n",
       "1            0.698113            0.702535          0.701845         0.002232  \n",
       "2            0.749368            0.753055          0.752890         0.002682  \n",
       "3            0.775228            0.774776          0.778062         0.003158  \n",
       "4            0.803415            0.802368          0.806460         0.003803  \n",
       "5            0.841187            0.836461          0.845218         0.006910  \n",
       "6            0.885533            0.875701          0.888125         0.010008  "
      ]
     },
     "execution_count": 44,
     "metadata": {},
     "output_type": "execute_result"
    }
   ],
   "source": [
    "# create a dataframe to visualize the results\n",
    "cv_results_df = pd.DataFrame(cv.cv_results_)\n",
    "cv_results_df"
   ]
  },
  {
   "cell_type": "code",
   "execution_count": 45,
   "id": "5326a783",
   "metadata": {},
   "outputs": [
    {
     "data": {
      "text/plain": [
       "Index(['mean_fit_time', 'std_fit_time', 'mean_score_time', 'std_score_time',\n",
       "       'param_max_depth', 'params', 'split0_test_score', 'split1_test_score',\n",
       "       'split2_test_score', 'split3_test_score', 'mean_test_score',\n",
       "       'std_test_score', 'rank_test_score', 'split0_train_score',\n",
       "       'split1_train_score', 'split2_train_score', 'split3_train_score',\n",
       "       'mean_train_score', 'std_train_score'],\n",
       "      dtype='object')"
      ]
     },
     "execution_count": 45,
     "metadata": {},
     "output_type": "execute_result"
    }
   ],
   "source": [
    "cv_results_df.columns"
   ]
  },
  {
   "cell_type": "code",
   "execution_count": 47,
   "id": "210cc565",
   "metadata": {},
   "outputs": [
    {
     "data": {
      "text/plain": [
       "[<matplotlib.lines.Line2D at 0x22aab564040>]"
      ]
     },
     "execution_count": 47,
     "metadata": {},
     "output_type": "execute_result"
    },
    {
     "data": {
      "image/png": "[encoded data removed]",
      "text/plain": [
       "<Figure size 640x480 with 1 Axes>"
      ]
     },
     "metadata": {},
     "output_type": "display_data"
    }
   ],
   "source": [
    "plt.plot(cv_results_df['param_max_depth'], cv_results_df['mean_train_score'])\n",
    "plt.plot(cv_results_df['param_max_depth'], cv_results_df['mean_test_score'])"
   ]
  },
  {
   "cell_type": "code",
   "execution_count": 53,
   "id": "ed80bbe4",
   "metadata": {},
   "outputs": [
    {
     "data": {
      "text/plain": [
       "Text(0, 0.5, 'ROC AUC')"
      ]
     },
     "execution_count": 53,
     "metadata": {},
     "output_type": "execute_result"
    },
    {
     "data": {
      "image/png": "[encoded data removed]",
      "text/plain": [
       "<Figure size 640x480 with 1 Axes>"
      ]
     },
     "metadata": {},
     "output_type": "display_data"
    }
   ],
   "source": [
    "# with error bar --> yerr\n",
    "plt.errorbar(cv_results_df['param_max_depth'], cv_results_df['mean_train_score'],\\\n",
    "         yerr = cv_results_df['std_train_score']/np.sqrt(4), label = 'train')\n",
    "\n",
    "\n",
    "\n",
    "plt.errorbar(cv_results_df['param_max_depth'], cv_results_df['mean_test_score'],\\\n",
    "         yerr = cv_results_df['std_test_score']/np.sqrt(4), label = 'test')\n",
    "\n",
    "plt.legend()\n",
    "plt.xlabel('max_depth')\n",
    "plt.ylabel('ROC AUC')"
   ]
  },
  {
   "cell_type": "markdown",
   "id": "0d443076",
   "metadata": {},
   "source": [
    "# Exercise 5.03: Fitting a Random Forest"
   ]
  },
  {
   "cell_type": "code",
   "execution_count": 54,
   "id": "984ed1ea",
   "metadata": {},
   "outputs": [],
   "source": [
    "from sklearn.ensemble import RandomForestClassifier"
   ]
  },
  {
   "cell_type": "code",
   "execution_count": 56,
   "id": "716531da",
   "metadata": {},
   "outputs": [],
   "source": [
    "rf = RandomForestClassifier(n_estimators= 10,\n",
    "                            criterion= 'gini',\n",
    "                            max_depth= 3,\n",
    "                            min_samples_split=3,\n",
    "                            min_samples_leaf=1,\n",
    "                            min_weight_fraction_leaf=0.0,\n",
    "                            max_features='auto',\n",
    "                            max_leaf_nodes= None,\n",
    "                            min_impurity_decrease=0.0,\n",
    "                            bootstrap= True,\n",
    "                            oob_score=False,\n",
    "                            n_jobs=None,\n",
    "                            random_state=4,\n",
    "                            verbose=0,\n",
    "                            warm_start=False,\n",
    "                            class_weight=None\n",
    ")"
   ]
  },
  {
   "cell_type": "code",
   "execution_count": 57,
   "id": "2e959aee",
   "metadata": {},
   "outputs": [],
   "source": [
    "rf_params_ex = {'n_estimators':list(range(10,110,10))}"
   ]
  },
  {
   "cell_type": "code",
   "execution_count": 58,
   "id": "7927e11e",
   "metadata": {},
   "outputs": [],
   "source": [
    "cv_rf_ex = GridSearchCV(rf, param_grid= rf_params_ex, scoring = 'roc_auc', n_jobs = None,\\\n",
    "                       refit = True, cv =4, verbose = 1, pre_dispatch= None, error_score=np.nan,\n",
    "                        return_train_score=True\n",
    "                       )"
   ]
  },
  {
   "cell_type": "code",
   "execution_count": 60,
   "id": "15381081",
   "metadata": {},
   "outputs": [
    {
     "name": "stdout",
     "output_type": "stream",
     "text": [
      "Fitting 4 folds for each of 10 candidates, totalling 40 fits\n"
     ]
    },
    {
     "data": {
      "text/plain": [
       "GridSearchCV(cv=4,\n",
       "             estimator=RandomForestClassifier(max_depth=3, min_samples_split=3,\n",
       "                                              n_estimators=10, random_state=4),\n",
       "             param_grid={'n_estimators': [10, 20, 30, 40, 50, 60, 70, 80, 90,\n",
       "                                          100]},\n",
       "             pre_dispatch=None, return_train_score=True, scoring='roc_auc',\n",
       "             verbose=1)"
      ]
     },
     "execution_count": 60,
     "metadata": {},
     "output_type": "execute_result"
    }
   ],
   "source": [
    "cv_rf_ex.fit(x_train,y_train)"
   ]
  },
  {
   "cell_type": "code",
   "execution_count": 61,
   "id": "4a6da38c",
   "metadata": {},
   "outputs": [],
   "source": [
    "cv_rf_ex_df = pd.DataFrame(cv_rf_ex.cv_results_)"
   ]
  },
  {
   "cell_type": "code",
   "execution_count": 64,
   "id": "2cb1a9e7",
   "metadata": {},
   "outputs": [
    {
     "data": {
      "text/plain": [
       "Index(['mean_fit_time', 'std_fit_time', 'mean_score_time', 'std_score_time',\n",
       "       'param_n_estimators', 'params', 'split0_test_score',\n",
       "       'split1_test_score', 'split2_test_score', 'split3_test_score',\n",
       "       'mean_test_score', 'std_test_score', 'rank_test_score',\n",
       "       'split0_train_score', 'split1_train_score', 'split2_train_score',\n",
       "       'split3_train_score', 'mean_train_score', 'std_train_score'],\n",
       "      dtype='object')"
      ]
     },
     "execution_count": 64,
     "metadata": {},
     "output_type": "execute_result"
    }
   ],
   "source": [
    "cv_rf_ex_df.columns"
   ]
  },
  {
   "cell_type": "code",
   "execution_count": 62,
   "id": "89494b9c",
   "metadata": {},
   "outputs": [
    {
     "data": {
      "text/html": [
       "<div>\n",
       "<style scoped>\n",
       "    .dataframe tbody tr th:only-of-type {\n",
       "        vertical-align: middle;\n",
       "    }\n",
       "\n",
       "    .dataframe tbody tr th {\n",
       "        vertical-align: top;\n",
       "    }\n",
       "\n",
       "    .dataframe thead th {\n",
       "        text-align: right;\n",
       "    }\n",
       "</style>\n",
       "<table border=\"1\" class=\"dataframe\">\n",
       "  <thead>\n",
       "    <tr style=\"text-align: right;\">\n",
       "      <th></th>\n",
       "      <th>mean_fit_time</th>\n",
       "      <th>std_fit_time</th>\n",
       "      <th>mean_score_time</th>\n",
       "      <th>std_score_time</th>\n",
       "      <th>param_n_estimators</th>\n",
       "      <th>params</th>\n",
       "      <th>split0_test_score</th>\n",
       "      <th>split1_test_score</th>\n",
       "      <th>split2_test_score</th>\n",
       "      <th>split3_test_score</th>\n",
       "      <th>mean_test_score</th>\n",
       "      <th>std_test_score</th>\n",
       "      <th>rank_test_score</th>\n",
       "      <th>split0_train_score</th>\n",
       "      <th>split1_train_score</th>\n",
       "      <th>split2_train_score</th>\n",
       "      <th>split3_train_score</th>\n",
       "      <th>mean_train_score</th>\n",
       "      <th>std_train_score</th>\n",
       "    </tr>\n",
       "  </thead>\n",
       "  <tbody>\n",
       "    <tr>\n",
       "      <th>0</th>\n",
       "      <td>0.097584</td>\n",
       "      <td>0.003305</td>\n",
       "      <td>0.006017</td>\n",
       "      <td>0.000736</td>\n",
       "      <td>10</td>\n",
       "      <td>{'n_estimators': 10}</td>\n",
       "      <td>0.739183</td>\n",
       "      <td>0.746599</td>\n",
       "      <td>0.772127</td>\n",
       "      <td>0.771322</td>\n",
       "      <td>0.757308</td>\n",
       "      <td>0.014656</td>\n",
       "      <td>10</td>\n",
       "      <td>0.767973</td>\n",
       "      <td>0.767158</td>\n",
       "      <td>0.760550</td>\n",
       "      <td>0.763683</td>\n",
       "      <td>0.764841</td>\n",
       "      <td>0.002955</td>\n",
       "    </tr>\n",
       "    <tr>\n",
       "      <th>1</th>\n",
       "      <td>0.200021</td>\n",
       "      <td>0.014895</td>\n",
       "      <td>0.009745</td>\n",
       "      <td>0.001927</td>\n",
       "      <td>20</td>\n",
       "      <td>{'n_estimators': 20}</td>\n",
       "      <td>0.745612</td>\n",
       "      <td>0.753712</td>\n",
       "      <td>0.777616</td>\n",
       "      <td>0.771737</td>\n",
       "      <td>0.762169</td>\n",
       "      <td>0.012998</td>\n",
       "      <td>9</td>\n",
       "      <td>0.772819</td>\n",
       "      <td>0.771499</td>\n",
       "      <td>0.765944</td>\n",
       "      <td>0.765395</td>\n",
       "      <td>0.768914</td>\n",
       "      <td>0.003284</td>\n",
       "    </tr>\n",
       "    <tr>\n",
       "      <th>2</th>\n",
       "      <td>0.308258</td>\n",
       "      <td>0.012403</td>\n",
       "      <td>0.013273</td>\n",
       "      <td>0.000829</td>\n",
       "      <td>30</td>\n",
       "      <td>{'n_estimators': 30}</td>\n",
       "      <td>0.747259</td>\n",
       "      <td>0.754154</td>\n",
       "      <td>0.777954</td>\n",
       "      <td>0.771825</td>\n",
       "      <td>0.762798</td>\n",
       "      <td>0.012524</td>\n",
       "      <td>7</td>\n",
       "      <td>0.774655</td>\n",
       "      <td>0.772100</td>\n",
       "      <td>0.765026</td>\n",
       "      <td>0.766697</td>\n",
       "      <td>0.769620</td>\n",
       "      <td>0.003910</td>\n",
       "    </tr>\n",
       "    <tr>\n",
       "      <th>3</th>\n",
       "      <td>0.387666</td>\n",
       "      <td>0.006500</td>\n",
       "      <td>0.015503</td>\n",
       "      <td>0.000495</td>\n",
       "      <td>40</td>\n",
       "      <td>{'n_estimators': 40}</td>\n",
       "      <td>0.746682</td>\n",
       "      <td>0.754553</td>\n",
       "      <td>0.777709</td>\n",
       "      <td>0.773134</td>\n",
       "      <td>0.763020</td>\n",
       "      <td>0.012813</td>\n",
       "      <td>4</td>\n",
       "      <td>0.774300</td>\n",
       "      <td>0.772642</td>\n",
       "      <td>0.765051</td>\n",
       "      <td>0.765876</td>\n",
       "      <td>0.769467</td>\n",
       "      <td>0.004057</td>\n",
       "    </tr>\n",
       "    <tr>\n",
       "      <th>4</th>\n",
       "      <td>0.462569</td>\n",
       "      <td>0.013510</td>\n",
       "      <td>0.019243</td>\n",
       "      <td>0.001669</td>\n",
       "      <td>50</td>\n",
       "      <td>{'n_estimators': 50}</td>\n",
       "      <td>0.748009</td>\n",
       "      <td>0.755878</td>\n",
       "      <td>0.779465</td>\n",
       "      <td>0.771250</td>\n",
       "      <td>0.763651</td>\n",
       "      <td>0.012379</td>\n",
       "      <td>1</td>\n",
       "      <td>0.775241</td>\n",
       "      <td>0.774025</td>\n",
       "      <td>0.765732</td>\n",
       "      <td>0.766947</td>\n",
       "      <td>0.770486</td>\n",
       "      <td>0.004191</td>\n",
       "    </tr>\n",
       "    <tr>\n",
       "      <th>5</th>\n",
       "      <td>0.561010</td>\n",
       "      <td>0.016545</td>\n",
       "      <td>0.023484</td>\n",
       "      <td>0.001786</td>\n",
       "      <td>60</td>\n",
       "      <td>{'n_estimators': 60}</td>\n",
       "      <td>0.748437</td>\n",
       "      <td>0.755604</td>\n",
       "      <td>0.779478</td>\n",
       "      <td>0.770978</td>\n",
       "      <td>0.763624</td>\n",
       "      <td>0.012252</td>\n",
       "      <td>2</td>\n",
       "      <td>0.775419</td>\n",
       "      <td>0.773615</td>\n",
       "      <td>0.766133</td>\n",
       "      <td>0.767032</td>\n",
       "      <td>0.770550</td>\n",
       "      <td>0.004031</td>\n",
       "    </tr>\n",
       "    <tr>\n",
       "      <th>6</th>\n",
       "      <td>0.656942</td>\n",
       "      <td>0.014178</td>\n",
       "      <td>0.025996</td>\n",
       "      <td>0.000702</td>\n",
       "      <td>70</td>\n",
       "      <td>{'n_estimators': 70}</td>\n",
       "      <td>0.747491</td>\n",
       "      <td>0.754465</td>\n",
       "      <td>0.779104</td>\n",
       "      <td>0.771023</td>\n",
       "      <td>0.763021</td>\n",
       "      <td>0.012620</td>\n",
       "      <td>3</td>\n",
       "      <td>0.774420</td>\n",
       "      <td>0.773379</td>\n",
       "      <td>0.765960</td>\n",
       "      <td>0.766174</td>\n",
       "      <td>0.769983</td>\n",
       "      <td>0.003934</td>\n",
       "    </tr>\n",
       "    <tr>\n",
       "      <th>7</th>\n",
       "      <td>0.744176</td>\n",
       "      <td>0.008029</td>\n",
       "      <td>0.029241</td>\n",
       "      <td>0.001770</td>\n",
       "      <td>80</td>\n",
       "      <td>{'n_estimators': 80}</td>\n",
       "      <td>0.747424</td>\n",
       "      <td>0.754488</td>\n",
       "      <td>0.778753</td>\n",
       "      <td>0.770872</td>\n",
       "      <td>0.762884</td>\n",
       "      <td>0.012502</td>\n",
       "      <td>5</td>\n",
       "      <td>0.774234</td>\n",
       "      <td>0.773257</td>\n",
       "      <td>0.765978</td>\n",
       "      <td>0.766220</td>\n",
       "      <td>0.769922</td>\n",
       "      <td>0.003840</td>\n",
       "    </tr>\n",
       "    <tr>\n",
       "      <th>8</th>\n",
       "      <td>0.894825</td>\n",
       "      <td>0.031059</td>\n",
       "      <td>0.033457</td>\n",
       "      <td>0.001595</td>\n",
       "      <td>90</td>\n",
       "      <td>{'n_estimators': 90}</td>\n",
       "      <td>0.747097</td>\n",
       "      <td>0.753794</td>\n",
       "      <td>0.778507</td>\n",
       "      <td>0.770426</td>\n",
       "      <td>0.762456</td>\n",
       "      <td>0.012571</td>\n",
       "      <td>8</td>\n",
       "      <td>0.774095</td>\n",
       "      <td>0.772973</td>\n",
       "      <td>0.766022</td>\n",
       "      <td>0.765748</td>\n",
       "      <td>0.769709</td>\n",
       "      <td>0.003846</td>\n",
       "    </tr>\n",
       "    <tr>\n",
       "      <th>9</th>\n",
       "      <td>0.939008</td>\n",
       "      <td>0.010014</td>\n",
       "      <td>0.036282</td>\n",
       "      <td>0.001614</td>\n",
       "      <td>100</td>\n",
       "      <td>{'n_estimators': 100}</td>\n",
       "      <td>0.747221</td>\n",
       "      <td>0.753924</td>\n",
       "      <td>0.779195</td>\n",
       "      <td>0.770937</td>\n",
       "      <td>0.762819</td>\n",
       "      <td>0.012811</td>\n",
       "      <td>6</td>\n",
       "      <td>0.774340</td>\n",
       "      <td>0.773598</td>\n",
       "      <td>0.766103</td>\n",
       "      <td>0.766914</td>\n",
       "      <td>0.770238</td>\n",
       "      <td>0.003750</td>\n",
       "    </tr>\n",
       "  </tbody>\n",
       "</table>\n",
       "</div>"
      ],
      "text/plain": [
       "   mean_fit_time  std_fit_time  mean_score_time  std_score_time  \\\n",
       "0       0.097584      0.003305         0.006017        0.000736   \n",
       "1       0.200021      0.014895         0.009745        0.001927   \n",
       "2       0.308258      0.012403         0.013273        0.000829   \n",
       "3       0.387666      0.006500         0.015503        0.000495   \n",
       "4       0.462569      0.013510         0.019243        0.001669   \n",
       "5       0.561010      0.016545         0.023484        0.001786   \n",
       "6       0.656942      0.014178         0.025996        0.000702   \n",
       "7       0.744176      0.008029         0.029241        0.001770   \n",
       "8       0.894825      0.031059         0.033457        0.001595   \n",
       "9       0.939008      0.010014         0.036282        0.001614   \n",
       "\n",
       "  param_n_estimators                 params  split0_test_score  \\\n",
       "0                 10   {'n_estimators': 10}           0.739183   \n",
       "1                 20   {'n_estimators': 20}           0.745612   \n",
       "2                 30   {'n_estimators': 30}           0.747259   \n",
       "3                 40   {'n_estimators': 40}           0.746682   \n",
       "4                 50   {'n_estimators': 50}           0.748009   \n",
       "5                 60   {'n_estimators': 60}           0.748437   \n",
       "6                 70   {'n_estimators': 70}           0.747491   \n",
       "7                 80   {'n_estimators': 80}           0.747424   \n",
       "8                 90   {'n_estimators': 90}           0.747097   \n",
       "9                100  {'n_estimators': 100}           0.747221   \n",
       "\n",
       "   split1_test_score  split2_test_score  split3_test_score  mean_test_score  \\\n",
       "0           0.746599           0.772127           0.771322         0.757308   \n",
       "1           0.753712           0.777616           0.771737         0.762169   \n",
       "2           0.754154           0.777954           0.771825         0.762798   \n",
       "3           0.754553           0.777709           0.773134         0.763020   \n",
       "4           0.755878           0.779465           0.771250         0.763651   \n",
       "5           0.755604           0.779478           0.770978         0.763624   \n",
       "6           0.754465           0.779104           0.771023         0.763021   \n",
       "7           0.754488           0.778753           0.770872         0.762884   \n",
       "8           0.753794           0.778507           0.770426         0.762456   \n",
       "9           0.753924           0.779195           0.770937         0.762819   \n",
       "\n",
       "   std_test_score  rank_test_score  split0_train_score  split1_train_score  \\\n",
       "0        0.014656               10            0.767973            0.767158   \n",
       "1        0.012998                9            0.772819            0.771499   \n",
       "2        0.012524                7            0.774655            0.772100   \n",
       "3        0.012813                4            0.774300            0.772642   \n",
       "4        0.012379                1            0.775241            0.774025   \n",
       "5        0.012252                2            0.775419            0.773615   \n",
       "6        0.012620                3            0.774420            0.773379   \n",
       "7        0.012502                5            0.774234            0.773257   \n",
       "8        0.012571                8            0.774095            0.772973   \n",
       "9        0.012811                6            0.774340            0.773598   \n",
       "\n",
       "   split2_train_score  split3_train_score  mean_train_score  std_train_score  \n",
       "0            0.760550            0.763683          0.764841         0.002955  \n",
       "1            0.765944            0.765395          0.768914         0.003284  \n",
       "2            0.765026            0.766697          0.769620         0.003910  \n",
       "3            0.765051            0.765876          0.769467         0.004057  \n",
       "4            0.765732            0.766947          0.770486         0.004191  \n",
       "5            0.766133            0.767032          0.770550         0.004031  \n",
       "6            0.765960            0.766174          0.769983         0.003934  \n",
       "7            0.765978            0.766220          0.769922         0.003840  \n",
       "8            0.766022            0.765748          0.769709         0.003846  \n",
       "9            0.766103            0.766914          0.770238         0.003750  "
      ]
     },
     "execution_count": 62,
     "metadata": {},
     "output_type": "execute_result"
    }
   ],
   "source": [
    "cv_rf_ex_df"
   ]
  },
  {
   "cell_type": "code",
   "execution_count": 66,
   "id": "4c059bd7",
   "metadata": {},
   "outputs": [
    {
     "data": {
      "text/plain": [
       "Text(0, 0.5, 'ROC AUC')"
      ]
     },
     "execution_count": 66,
     "metadata": {},
     "output_type": "execute_result"
    },
    {
     "data": {
      "image/png": "[encoded data removed]",
      "text/plain": [
       "<Figure size 640x480 with 1 Axes>"
      ]
     },
     "metadata": {},
     "output_type": "display_data"
    }
   ],
   "source": [
    "plt.errorbar(cv_rf_ex_df['param_n_estimators'], cv_rf_ex_df['mean_train_score'],\\\n",
    "         yerr = cv_rf_ex_df['std_train_score']/np.sqrt(4), label = 'train')\n",
    "\n",
    "\n",
    "\n",
    "#plt.errorbar(cv_rf_ex_df['param_n_estimators'], cv_rf_ex_df['mean_test_score'],\\\n",
    "        # yerr = cv_rf_ex_df['std_test_score']/np.sqrt(4), label = 'test')\n",
    "\n",
    "plt.legend()\n",
    "plt.xlabel('max_depth')\n",
    "plt.ylabel('ROC AUC')"
   ]
  },
  {
   "cell_type": "code",
   "execution_count": 71,
   "id": "87660b3f",
   "metadata": {},
   "outputs": [
    {
     "data": {
      "text/plain": [
       "Text(0, 0.5, 'ROC AUC')"
      ]
     },
     "execution_count": 71,
     "metadata": {},
     "output_type": "execute_result"
    },
    {
     "data": {
      "image/png": "[encoded data removed]",
      "text/plain": [
       "<Figure size 640x480 with 1 Axes>"
      ]
     },
     "metadata": {},
     "output_type": "display_data"
    }
   ],
   "source": [
    "plt.errorbar(cv_rf_ex_df['param_n_estimators'], cv_rf_ex_df['mean_test_score'],\\\n",
    "         yerr = cv_rf_ex_df['std_test_score']/np.sqrt(4), label = 'test')\n",
    "\n",
    "plt.legend()\n",
    "plt.xlabel('max_depth')\n",
    "plt.ylabel('ROC AUC')"
   ]
  },
  {
   "cell_type": "code",
   "execution_count": 72,
   "id": "b09c9177",
   "metadata": {},
   "outputs": [
    {
     "data": {
      "text/plain": [
       "{'n_estimators': 50}"
      ]
     },
     "execution_count": 72,
     "metadata": {},
     "output_type": "execute_result"
    }
   ],
   "source": [
    "cv_rf_ex.best_params_"
   ]
  },
  {
   "cell_type": "code",
   "execution_count": 73,
   "id": "966ed110",
   "metadata": {},
   "outputs": [],
   "source": [
    "feat_imp_df = pd.DataFrame({'Importance': cv_rf_ex.best_estimator_.feature_importances_}, index = feature_response[:-1])"
   ]
  },
  {
   "cell_type": "code",
   "execution_count": 74,
   "id": "aae28e7e",
   "metadata": {},
   "outputs": [
    {
     "data": {
      "text/plain": [
       "array([7.92654119e-02, 1.62965540e-03, 1.69783800e-04, 4.59032779e-04,\n",
       "       6.09608673e-01, 8.57370984e-03, 2.24215568e-02, 1.33207776e-02,\n",
       "       1.34543733e-02, 1.12637065e-02, 1.42930960e-02, 9.41230762e-02,\n",
       "       3.53933835e-02, 4.70668194e-02, 2.11638814e-02, 1.59618676e-02,\n",
       "       1.18311949e-02])"
      ]
     },
     "execution_count": 74,
     "metadata": {},
     "output_type": "execute_result"
    }
   ],
   "source": [
    " cv_rf_ex.best_estimator_.feature_importances_"
   ]
  },
  {
   "cell_type": "code",
   "execution_count": 87,
   "id": "6226bceb",
   "metadata": {},
   "outputs": [
    {
     "data": {
      "image/png": "[encoded data removed]",
      "text/plain": [
       "<Figure size 640x480 with 1 Axes>"
      ]
     },
     "metadata": {},
     "output_type": "display_data"
    }
   ],
   "source": [
    "feat_imp_df.sort_values('Importance', ascending = True).plot.barh()\n",
    "plt.show()"
   ]
  },
  {
   "cell_type": "code",
   "execution_count": 90,
   "id": "4beca6b8",
   "metadata": {},
   "outputs": [],
   "source": [
    "xx_ex, yy_ex = np.meshgrid(range(5), range(5))"
   ]
  },
  {
   "cell_type": "code",
   "execution_count": 171,
   "id": "340c6236",
   "metadata": {},
   "outputs": [
    {
     "data": {
      "text/plain": [
       "array([[0, 1, 2, 3, 4],\n",
       "       [0, 1, 2, 3, 4],\n",
       "       [0, 1, 2, 3, 4],\n",
       "       [0, 1, 2, 3, 4],\n",
       "       [0, 1, 2, 3, 4]])"
      ]
     },
     "execution_count": 171,
     "metadata": {},
     "output_type": "execute_result"
    }
   ],
   "source": [
    "xx_ex"
   ]
  },
  {
   "cell_type": "code",
   "execution_count": 91,
   "id": "e024633b",
   "metadata": {},
   "outputs": [],
   "source": [
    "z_ex = np.arange(1,17).reshape(4,4)"
   ]
  },
  {
   "cell_type": "code",
   "execution_count": 94,
   "id": "bd4ff1f9",
   "metadata": {},
   "outputs": [
    {
     "data": {
      "text/plain": [
       "Text(0, 0.5, 'y_vals')"
      ]
     },
     "execution_count": 94,
     "metadata": {},
     "output_type": "execute_result"
    },
    {
     "data": {
      "image/png": "[encoded data removed]",
      "text/plain": [
       "<Figure size 640x480 with 2 Axes>"
      ]
     },
     "metadata": {},
     "output_type": "display_data"
    }
   ],
   "source": [
    "ax = plt.axes()\n",
    "\n",
    "pcolor_ex = ax.pcolormesh(xx_ex, yy_ex, z_ex, cmap = plt.cm.jet)\n",
    "plt.colorbar(pcolor_ex, label ='Color Scale')\n",
    "ax.set_xlabel('x_vals')\n",
    "ax.set_ylabel('y_vals')"
   ]
  },
  {
   "cell_type": "markdown",
   "id": "b264da35",
   "metadata": {},
   "source": [
    "# Activity 5.01 Cross-Validation Grid Search with Random Forest"
   ]
  },
  {
   "cell_type": "code",
   "execution_count": 125,
   "id": "0bb15180",
   "metadata": {},
   "outputs": [],
   "source": [
    "params_act = {'max_depth':[3,6,9,12], 'n_estimators':[10,50,100,200]}"
   ]
  },
  {
   "cell_type": "code",
   "execution_count": null,
   "id": "c0c935cc",
   "metadata": {},
   "outputs": [],
   "source": []
  },
  {
   "cell_type": "code",
   "execution_count": 178,
   "id": "b602727e",
   "metadata": {},
   "outputs": [],
   "source": [
    "rf_2 = RandomForestClassifier(n_estimators= 10,\n",
    "                            criterion= 'gini',\n",
    "                            max_depth= 3,\n",
    "                            min_samples_split=3,\n",
    "                            min_samples_leaf=1,\n",
    "                            min_weight_fraction_leaf=0.0,\n",
    "                            max_features='auto',\n",
    "                            max_leaf_nodes= None,\n",
    "                            min_impurity_decrease=0.0,\n",
    "                            bootstrap= True,\n",
    "                            oob_score=False,\n",
    "                            n_jobs=-1,\n",
    "                            random_state=4,\n",
    "                            verbose=0,\n",
    "                            warm_start=False,\n",
    "                            class_weight=None\n",
    ")"
   ]
  },
  {
   "cell_type": "code",
   "execution_count": 179,
   "id": "1bd9a2d1",
   "metadata": {},
   "outputs": [],
   "source": [
    "cv_rf_act = GridSearchCV(rf_2, param_grid=params_act, scoring = 'roc_auc', n_jobs= None,\\\n",
    "                         refit = True, cv =4, verbose = 2, pre_dispatch= None, error_score=np.nan,\n",
    "                        return_train_score=True\n",
    "                       )"
   ]
  },
  {
   "cell_type": "code",
   "execution_count": 180,
   "id": "ecd1d74a",
   "metadata": {},
   "outputs": [
    {
     "name": "stdout",
     "output_type": "stream",
     "text": [
      "Fitting 4 folds for each of 16 candidates, totalling 64 fits\n",
      "[CV] END .......................max_depth=3, n_estimators=10; total time=   3.3s\n",
      "[CV] END .......................max_depth=3, n_estimators=10; total time=   0.1s\n",
      "[CV] END .......................max_depth=3, n_estimators=10; total time=   0.1s\n",
      "[CV] END .......................max_depth=3, n_estimators=10; total time=   0.0s\n",
      "[CV] END .......................max_depth=3, n_estimators=50; total time=   0.2s\n",
      "[CV] END .......................max_depth=3, n_estimators=50; total time=   0.2s\n",
      "[CV] END .......................max_depth=3, n_estimators=50; total time=   0.2s\n",
      "[CV] END .......................max_depth=3, n_estimators=50; total time=   0.2s\n",
      "[CV] END ......................max_depth=3, n_estimators=100; total time=   0.4s\n",
      "[CV] END ......................max_depth=3, n_estimators=100; total time=   0.3s\n",
      "[CV] END ......................max_depth=3, n_estimators=100; total time=   0.3s\n",
      "[CV] END ......................max_depth=3, n_estimators=100; total time=   0.4s\n",
      "[CV] END ......................max_depth=3, n_estimators=200; total time=   0.6s\n",
      "[CV] END ......................max_depth=3, n_estimators=200; total time=   0.7s\n",
      "[CV] END ......................max_depth=3, n_estimators=200; total time=   0.6s\n",
      "[CV] END ......................max_depth=3, n_estimators=200; total time=   0.7s\n",
      "[CV] END .......................max_depth=6, n_estimators=10; total time=   0.1s\n",
      "[CV] END .......................max_depth=6, n_estimators=10; total time=   0.1s\n",
      "[CV] END .......................max_depth=6, n_estimators=10; total time=   0.1s\n",
      "[CV] END .......................max_depth=6, n_estimators=10; total time=   0.1s\n",
      "[CV] END .......................max_depth=6, n_estimators=50; total time=   0.3s\n",
      "[CV] END .......................max_depth=6, n_estimators=50; total time=   0.3s\n",
      "[CV] END .......................max_depth=6, n_estimators=50; total time=   0.3s\n",
      "[CV] END .......................max_depth=6, n_estimators=50; total time=   0.3s\n",
      "[CV] END ......................max_depth=6, n_estimators=100; total time=   0.5s\n",
      "[CV] END ......................max_depth=6, n_estimators=100; total time=   0.5s\n",
      "[CV] END ......................max_depth=6, n_estimators=100; total time=   0.5s\n",
      "[CV] END ......................max_depth=6, n_estimators=100; total time=   0.6s\n",
      "[CV] END ......................max_depth=6, n_estimators=200; total time=   1.0s\n",
      "[CV] END ......................max_depth=6, n_estimators=200; total time=   1.1s\n",
      "[CV] END ......................max_depth=6, n_estimators=200; total time=   1.2s\n",
      "[CV] END ......................max_depth=6, n_estimators=200; total time=   1.1s\n",
      "[CV] END .......................max_depth=9, n_estimators=10; total time=   0.2s\n",
      "[CV] END .......................max_depth=9, n_estimators=10; total time=   0.1s\n",
      "[CV] END .......................max_depth=9, n_estimators=10; total time=   0.2s\n",
      "[CV] END .......................max_depth=9, n_estimators=10; total time=   0.1s\n",
      "[CV] END .......................max_depth=9, n_estimators=50; total time=   0.4s\n",
      "[CV] END .......................max_depth=9, n_estimators=50; total time=   0.4s\n",
      "[CV] END .......................max_depth=9, n_estimators=50; total time=   0.4s\n",
      "[CV] END .......................max_depth=9, n_estimators=50; total time=   0.4s\n",
      "[CV] END ......................max_depth=9, n_estimators=100; total time=   0.7s\n",
      "[CV] END ......................max_depth=9, n_estimators=100; total time=   0.8s\n",
      "[CV] END ......................max_depth=9, n_estimators=100; total time=   0.7s\n",
      "[CV] END ......................max_depth=9, n_estimators=100; total time=   0.7s\n",
      "[CV] END ......................max_depth=9, n_estimators=200; total time=   1.4s\n",
      "[CV] END ......................max_depth=9, n_estimators=200; total time=   1.5s\n",
      "[CV] END ......................max_depth=9, n_estimators=200; total time=   1.5s\n",
      "[CV] END ......................max_depth=9, n_estimators=200; total time=   1.6s\n",
      "[CV] END ......................max_depth=12, n_estimators=10; total time=   0.2s\n",
      "[CV] END ......................max_depth=12, n_estimators=10; total time=   0.2s\n",
      "[CV] END ......................max_depth=12, n_estimators=10; total time=   0.1s\n",
      "[CV] END ......................max_depth=12, n_estimators=10; total time=   0.2s\n",
      "[CV] END ......................max_depth=12, n_estimators=50; total time=   0.5s\n",
      "[CV] END ......................max_depth=12, n_estimators=50; total time=   0.5s\n",
      "[CV] END ......................max_depth=12, n_estimators=50; total time=   0.5s\n",
      "[CV] END ......................max_depth=12, n_estimators=50; total time=   0.5s\n",
      "[CV] END .....................max_depth=12, n_estimators=100; total time=   0.9s\n",
      "[CV] END .....................max_depth=12, n_estimators=100; total time=   0.9s\n",
      "[CV] END .....................max_depth=12, n_estimators=100; total time=   0.9s\n",
      "[CV] END .....................max_depth=12, n_estimators=100; total time=   0.9s\n",
      "[CV] END .....................max_depth=12, n_estimators=200; total time=   1.7s\n",
      "[CV] END .....................max_depth=12, n_estimators=200; total time=   1.8s\n",
      "[CV] END .....................max_depth=12, n_estimators=200; total time=   1.8s\n",
      "[CV] END .....................max_depth=12, n_estimators=200; total time=   1.8s\n"
     ]
    }
   ],
   "source": [
    "cv_rf_act_results = cv_rf_act.fit(x_train, y_train)"
   ]
  },
  {
   "cell_type": "code",
   "execution_count": 202,
   "id": "a215b775",
   "metadata": {},
   "outputs": [
    {
     "data": {
      "text/html": [
       "<div>\n",
       "<style scoped>\n",
       "    .dataframe tbody tr th:only-of-type {\n",
       "        vertical-align: middle;\n",
       "    }\n",
       "\n",
       "    .dataframe tbody tr th {\n",
       "        vertical-align: top;\n",
       "    }\n",
       "\n",
       "    .dataframe thead th {\n",
       "        text-align: right;\n",
       "    }\n",
       "</style>\n",
       "<table border=\"1\" class=\"dataframe\">\n",
       "  <thead>\n",
       "    <tr style=\"text-align: right;\">\n",
       "      <th></th>\n",
       "      <th>param_max_depth</th>\n",
       "      <th>param_n_estimators</th>\n",
       "      <th>mean_test_score</th>\n",
       "      <th>mean_train_score</th>\n",
       "    </tr>\n",
       "  </thead>\n",
       "  <tbody>\n",
       "    <tr>\n",
       "      <th>0</th>\n",
       "      <td>3</td>\n",
       "      <td>10</td>\n",
       "      <td>0.757308</td>\n",
       "      <td>0.764841</td>\n",
       "    </tr>\n",
       "    <tr>\n",
       "      <th>1</th>\n",
       "      <td>3</td>\n",
       "      <td>50</td>\n",
       "      <td>0.763651</td>\n",
       "      <td>0.770486</td>\n",
       "    </tr>\n",
       "    <tr>\n",
       "      <th>2</th>\n",
       "      <td>3</td>\n",
       "      <td>100</td>\n",
       "      <td>0.762819</td>\n",
       "      <td>0.770238</td>\n",
       "    </tr>\n",
       "    <tr>\n",
       "      <th>3</th>\n",
       "      <td>3</td>\n",
       "      <td>200</td>\n",
       "      <td>0.762471</td>\n",
       "      <td>0.770382</td>\n",
       "    </tr>\n",
       "    <tr>\n",
       "      <th>4</th>\n",
       "      <td>6</td>\n",
       "      <td>10</td>\n",
       "      <td>0.765727</td>\n",
       "      <td>0.795410</td>\n",
       "    </tr>\n",
       "    <tr>\n",
       "      <th>5</th>\n",
       "      <td>6</td>\n",
       "      <td>50</td>\n",
       "      <td>0.773123</td>\n",
       "      <td>0.803181</td>\n",
       "    </tr>\n",
       "    <tr>\n",
       "      <th>6</th>\n",
       "      <td>6</td>\n",
       "      <td>100</td>\n",
       "      <td>0.773699</td>\n",
       "      <td>0.804580</td>\n",
       "    </tr>\n",
       "    <tr>\n",
       "      <th>7</th>\n",
       "      <td>6</td>\n",
       "      <td>200</td>\n",
       "      <td>0.773732</td>\n",
       "      <td>0.804956</td>\n",
       "    </tr>\n",
       "    <tr>\n",
       "      <th>8</th>\n",
       "      <td>9</td>\n",
       "      <td>10</td>\n",
       "      <td>0.765802</td>\n",
       "      <td>0.852442</td>\n",
       "    </tr>\n",
       "    <tr>\n",
       "      <th>9</th>\n",
       "      <td>9</td>\n",
       "      <td>50</td>\n",
       "      <td>0.774861</td>\n",
       "      <td>0.868168</td>\n",
       "    </tr>\n",
       "    <tr>\n",
       "      <th>10</th>\n",
       "      <td>9</td>\n",
       "      <td>100</td>\n",
       "      <td>0.776228</td>\n",
       "      <td>0.871050</td>\n",
       "    </tr>\n",
       "    <tr>\n",
       "      <th>11</th>\n",
       "      <td>9</td>\n",
       "      <td>200</td>\n",
       "      <td>0.776431</td>\n",
       "      <td>0.872487</td>\n",
       "    </tr>\n",
       "    <tr>\n",
       "      <th>12</th>\n",
       "      <td>12</td>\n",
       "      <td>10</td>\n",
       "      <td>0.757226</td>\n",
       "      <td>0.919774</td>\n",
       "    </tr>\n",
       "    <tr>\n",
       "      <th>13</th>\n",
       "      <td>12</td>\n",
       "      <td>50</td>\n",
       "      <td>0.771006</td>\n",
       "      <td>0.938418</td>\n",
       "    </tr>\n",
       "    <tr>\n",
       "      <th>14</th>\n",
       "      <td>12</td>\n",
       "      <td>100</td>\n",
       "      <td>0.772851</td>\n",
       "      <td>0.942053</td>\n",
       "    </tr>\n",
       "    <tr>\n",
       "      <th>15</th>\n",
       "      <td>12</td>\n",
       "      <td>200</td>\n",
       "      <td>0.774684</td>\n",
       "      <td>0.944331</td>\n",
       "    </tr>\n",
       "  </tbody>\n",
       "</table>\n",
       "</div>"
      ],
      "text/plain": [
       "   param_max_depth param_n_estimators  mean_test_score  mean_train_score\n",
       "0                3                 10         0.757308          0.764841\n",
       "1                3                 50         0.763651          0.770486\n",
       "2                3                100         0.762819          0.770238\n",
       "3                3                200         0.762471          0.770382\n",
       "4                6                 10         0.765727          0.795410\n",
       "5                6                 50         0.773123          0.803181\n",
       "6                6                100         0.773699          0.804580\n",
       "7                6                200         0.773732          0.804956\n",
       "8                9                 10         0.765802          0.852442\n",
       "9                9                 50         0.774861          0.868168\n",
       "10               9                100         0.776228          0.871050\n",
       "11               9                200         0.776431          0.872487\n",
       "12              12                 10         0.757226          0.919774\n",
       "13              12                 50         0.771006          0.938418\n",
       "14              12                100         0.772851          0.942053\n",
       "15              12                200         0.774684          0.944331"
      ]
     },
     "execution_count": 202,
     "metadata": {},
     "output_type": "execute_result"
    }
   ],
   "source": [
    "cv_rf_act_results_df = pd.DataFrame(cv_rf_act_results.cv_results_)\n",
    "cv_rf_act_results_df_extracted = cv_rf_act_results_df[['param_max_depth','param_n_estimators','mean_test_score','mean_train_score']]\n",
    "cv_rf_act_results_df_extracted"
   ]
  },
  {
   "cell_type": "code",
   "execution_count": 203,
   "id": "24c6802f",
   "metadata": {},
   "outputs": [
    {
     "data": {
      "text/plain": [
       "0     0.757308\n",
       "1     0.763651\n",
       "2     0.762819\n",
       "3     0.762471\n",
       "4     0.765727\n",
       "5     0.773123\n",
       "6     0.773699\n",
       "7     0.773732\n",
       "8     0.765802\n",
       "9     0.774861\n",
       "10    0.776228\n",
       "11    0.776431\n",
       "12    0.757226\n",
       "13    0.771006\n",
       "14    0.772851\n",
       "15    0.774684\n",
       "Name: mean_test_score, dtype: float64"
      ]
     },
     "execution_count": 203,
     "metadata": {},
     "output_type": "execute_result"
    }
   ],
   "source": [
    "cv_rf_act_results_df_extracted['mean_test_score']"
   ]
  },
  {
   "cell_type": "code",
   "execution_count": null,
   "id": "74a0037d",
   "metadata": {},
   "outputs": [],
   "source": []
  },
  {
   "cell_type": "code",
   "execution_count": 204,
   "id": "e5e787cc",
   "metadata": {},
   "outputs": [],
   "source": [
    "xx_act, yy_act = np.meshgrid([3,6,9,12],[10,50,100,200] )"
   ]
  },
  {
   "cell_type": "code",
   "execution_count": 205,
   "id": "37afd660",
   "metadata": {},
   "outputs": [
    {
     "data": {
      "text/plain": [
       "[<matplotlib.axis.YTick at 0x22ab5bd6ac0>,\n",
       " <matplotlib.axis.YTick at 0x22ab5bd6340>,\n",
       " <matplotlib.axis.YTick at 0x22ab5bcf250>,\n",
       " <matplotlib.axis.YTick at 0x22ab5c4b8b0>]"
      ]
     },
     "execution_count": 205,
     "metadata": {},
     "output_type": "execute_result"
    },
    {
     "data": {
      "image/png": "[encoded data removed]",
      "text/plain": [
       "<Figure size 640x480 with 2 Axes>"
      ]
     },
     "metadata": {},
     "output_type": "display_data"
    }
   ],
   "source": [
    "ax = plt.axes()\n",
    "\n",
    "pcolor_act = ax.pcolormesh(xx_act,yy_act,\\\n",
    "                           cv_rf_act_results_df_extracted['mean_train_score'].values.reshape(4,4),cmap = plt.cm.Blues)\n",
    "plt.colorbar(pcolor_act, label = 'ROC score')\n",
    "\n",
    "ax.set_xlabel('param_max_depth')\n",
    "ax.set_ylabel('param_n_estimators')\n",
    "ax.set_xticks([3,6,9,12])\n",
    "ax.set_yticks([10,50,100,200])"
   ]
  },
  {
   "cell_type": "code",
   "execution_count": 207,
   "id": "126d3a28",
   "metadata": {},
   "outputs": [],
   "source": [
    "## the ROC increases wiht no of tress and the depth"
   ]
  },
  {
   "cell_type": "code",
   "execution_count": 206,
   "id": "b237a0fe",
   "metadata": {},
   "outputs": [
    {
     "data": {
      "text/plain": [
       "[<matplotlib.axis.YTick at 0x22ab6c98b50>,\n",
       " <matplotlib.axis.YTick at 0x22ab6c983d0>,\n",
       " <matplotlib.axis.YTick at 0x22ab6c90370>,\n",
       " <matplotlib.axis.YTick at 0x22ab6cffbe0>]"
      ]
     },
     "execution_count": 206,
     "metadata": {},
     "output_type": "execute_result"
    },
    {
     "data": {
      "image/png": "[encoded data removed]",
      "text/plain": [
       "<Figure size 640x480 with 2 Axes>"
      ]
     },
     "metadata": {},
     "output_type": "display_data"
    }
   ],
   "source": [
    "ax = plt.axes()\n",
    "\n",
    "pcolor_act = ax.pcolormesh(xx_act,yy_act,\\\n",
    "                           cv_rf_act_results_df_extracted['mean_test_score'].values.reshape(4,4),cmap = plt.cm.Blues)\n",
    "plt.colorbar(pcolor_act, label = 'ROC score')\n",
    "\n",
    "ax.set_xlabel('param_max_depth')\n",
    "ax.set_ylabel('param_n_estimators')\n",
    "ax.set_xticks([3,6,9,12])\n",
    "ax.set_yticks([10,50,100,200])\n"
   ]
  },
  {
   "cell_type": "markdown",
   "id": "83dd524f",
   "metadata": {},
   "source": [
    "### for me  200 trees and 12 depth however thea answer from the book is different"
   ]
  },
  {
   "cell_type": "code",
   "execution_count": 219,
   "id": "682e1676",
   "metadata": {},
   "outputs": [
    {
     "data": {
      "text/plain": [
       "{'bootstrap': True,\n",
       " 'ccp_alpha': 0.0,\n",
       " 'class_weight': None,\n",
       " 'criterion': 'gini',\n",
       " 'max_depth': 9,\n",
       " 'max_features': 'auto',\n",
       " 'max_leaf_nodes': None,\n",
       " 'max_samples': None,\n",
       " 'min_impurity_decrease': 0.0,\n",
       " 'min_samples_leaf': 1,\n",
       " 'min_samples_split': 3,\n",
       " 'min_weight_fraction_leaf': 0.0,\n",
       " 'n_estimators': 200,\n",
       " 'n_jobs': -1,\n",
       " 'oob_score': False,\n",
       " 'random_state': 4,\n",
       " 'verbose': 0,\n",
       " 'warm_start': False}"
      ]
     },
     "execution_count": 219,
     "metadata": {},
     "output_type": "execute_result"
    }
   ],
   "source": [
    "cv_rf_act.best_estimator_.get_params()"
   ]
  },
  {
   "cell_type": "code",
   "execution_count": 228,
   "id": "2fdc09ca",
   "metadata": {},
   "outputs": [
    {
     "data": {
      "text/html": [
       "<div>\n",
       "<style scoped>\n",
       "    .dataframe tbody tr th:only-of-type {\n",
       "        vertical-align: middle;\n",
       "    }\n",
       "\n",
       "    .dataframe tbody tr th {\n",
       "        vertical-align: top;\n",
       "    }\n",
       "\n",
       "    .dataframe thead th {\n",
       "        text-align: right;\n",
       "    }\n",
       "</style>\n",
       "<table border=\"1\" class=\"dataframe\">\n",
       "  <thead>\n",
       "    <tr style=\"text-align: right;\">\n",
       "      <th></th>\n",
       "      <th>param_max_depth</th>\n",
       "      <th>param_n_estimators</th>\n",
       "      <th>mean_test_score</th>\n",
       "      <th>mean_train_score</th>\n",
       "    </tr>\n",
       "  </thead>\n",
       "  <tbody>\n",
       "    <tr>\n",
       "      <th>11</th>\n",
       "      <td>9</td>\n",
       "      <td>200</td>\n",
       "      <td>0.776431</td>\n",
       "      <td>0.872487</td>\n",
       "    </tr>\n",
       "  </tbody>\n",
       "</table>\n",
       "</div>"
      ],
      "text/plain": [
       "   param_max_depth param_n_estimators  mean_test_score  mean_train_score\n",
       "11               9                200         0.776431          0.872487"
      ]
     },
     "execution_count": 228,
     "metadata": {},
     "output_type": "execute_result"
    }
   ],
   "source": [
    "select = cv_rf_act_results_df_extracted.loc[cv_rf_act_results_df_extracted['param_n_estimators'] ==200]\n",
    "                                             \n",
    "select = select.loc[select['param_max_depth'] == 9]\n",
    "\n",
    "select "
   ]
  },
  {
   "cell_type": "code",
   "execution_count": 229,
   "id": "9540e578",
   "metadata": {},
   "outputs": [
    {
     "ename": "ValueError",
     "evalue": "The truth value of a Series is ambiguous. Use a.empty, a.bool(), a.item(), a.any() or a.all().",
     "output_type": "error",
     "traceback": [
      "\u001b[1;31m---------------------------------------------------------------------------\u001b[0m",
      "\u001b[1;31mValueError\u001b[0m                                Traceback (most recent call last)",
      "\u001b[1;32m~\\AppData\\Local\\Temp\\ipykernel_8116\\3174652683.py\u001b[0m in \u001b[0;36m<module>\u001b[1;34m\u001b[0m\n\u001b[1;32m----> 1\u001b[1;33m select = cv_rf_act_results_df_extracted.loc[cv_rf_act_results_df_extracted['param_n_estimators'] ==200 \\\n\u001b[0m\u001b[0;32m      2\u001b[0m                                             & cv_rf_act_results_df_extracted['param_max_depth'] ==9 ]\n",
      "\u001b[1;32m~\\Anaconda3\\lib\\site-packages\\pandas\\core\\generic.py\u001b[0m in \u001b[0;36m__nonzero__\u001b[1;34m(self)\u001b[0m\n\u001b[0;32m   1525\u001b[0m     \u001b[1;33m@\u001b[0m\u001b[0mfinal\u001b[0m\u001b[1;33m\u001b[0m\u001b[1;33m\u001b[0m\u001b[0m\n\u001b[0;32m   1526\u001b[0m     \u001b[1;32mdef\u001b[0m \u001b[0m__nonzero__\u001b[0m\u001b[1;33m(\u001b[0m\u001b[0mself\u001b[0m\u001b[1;33m)\u001b[0m\u001b[1;33m:\u001b[0m\u001b[1;33m\u001b[0m\u001b[1;33m\u001b[0m\u001b[0m\n\u001b[1;32m-> 1527\u001b[1;33m         raise ValueError(\n\u001b[0m\u001b[0;32m   1528\u001b[0m             \u001b[1;34mf\"The truth value of a {type(self).__name__} is ambiguous. \"\u001b[0m\u001b[1;33m\u001b[0m\u001b[1;33m\u001b[0m\u001b[0m\n\u001b[0;32m   1529\u001b[0m             \u001b[1;34m\"Use a.empty, a.bool(), a.item(), a.any() or a.all().\"\u001b[0m\u001b[1;33m\u001b[0m\u001b[1;33m\u001b[0m\u001b[0m\n",
      "\u001b[1;31mValueError\u001b[0m: The truth value of a Series is ambiguous. Use a.empty, a.bool(), a.item(), a.any() or a.all()."
     ]
    }
   ],
   "source": [
    "select = cv_rf_act_results_df_extracted.loc[cv_rf_act_results_df_extracted['param_n_estimators'] ==200 \\\n",
    "                                            & cv_rf_act_results_df_extracted['param_max_depth'] ==9 ]"
   ]
  },
  {
   "cell_type": "code",
   "execution_count": 239,
   "id": "aa8f8c69",
   "metadata": {},
   "outputs": [
    {
     "data": {
      "text/plain": [
       "11    0.776431\n",
       "Name: mean_test_score, dtype: float64"
      ]
     },
     "execution_count": 239,
     "metadata": {},
     "output_type": "execute_result"
    }
   ],
   "source": [
    "select = cv_rf_act_results_df_extracted.loc[(cv_rf_act_results_df_extracted['param_n_estimators'] ==200) & \\\n",
    "                                            (cv_rf_act_results_df_extracted['param_max_depth'] == 9)]['mean_test_score']\n",
    "select"
   ]
  },
  {
   "cell_type": "code",
   "execution_count": 245,
   "id": "831b80b4",
   "metadata": {},
   "outputs": [
    {
     "data": {
      "text/plain": [
       "77.64313422494897"
      ]
     },
     "execution_count": 245,
     "metadata": {},
     "output_type": "execute_result"
    }
   ],
   "source": [
    "np.array(select)[0]*100"
   ]
  },
  {
   "cell_type": "code",
   "execution_count": null,
   "id": "e65f287c",
   "metadata": {},
   "outputs": [],
   "source": [
    "## https://datatofish.com/select-rows-pandas-dataframe/"
   ]
  }
 ],
 "metadata": {
  "kernelspec": {
   "display_name": "Python 3 (ipykernel)",
   "language": "python",
   "name": "python3"
  },
  "language_info": {
   "codemirror_mode": {
    "name": "ipython",
    "version": 3
   },
   "file_extension": ".py",
   "mimetype": "text/x-python",
   "name": "python",
   "nbconvert_exporter": "python",
   "pygments_lexer": "ipython3",
   "version": "3.9.13"
  }
 },
 "nbformat": 4,
 "nbformat_minor": 5
}
