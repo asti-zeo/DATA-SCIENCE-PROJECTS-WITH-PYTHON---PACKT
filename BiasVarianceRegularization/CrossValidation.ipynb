{
 "cells": [
  {
   "cell_type": "code",
   "execution_count": 32,
   "id": "41024a62",
   "metadata": {},
   "outputs": [],
   "source": [
    "from sklearn.model_selection import train_test_split\n",
    "from sklearn.linear_model import LogisticRegression\n",
    "from sklearn.metrics import roc_auc_score\n",
    "from sklearn.datasets import make_classification\n",
    "import numpy as np\n",
    "import matplotlib.pyplot as plt"
   ]
  },
  {
   "cell_type": "code",
   "execution_count": 5,
   "id": "54f53b59",
   "metadata": {},
   "outputs": [
    {
     "data": {
      "text/plain": [
       "array([[0., 0., 0.],\n",
       "       [0., 0., 0.],\n",
       "       [0., 0., 0.],\n",
       "       [0., 0., 0.],\n",
       "       [0., 0., 0.]])"
      ]
     },
     "execution_count": 5,
     "metadata": {},
     "output_type": "execute_result"
    }
   ],
   "source": [
    "a = np.empty((5,3))\n",
    "a"
   ]
  },
  {
   "cell_type": "code",
   "execution_count": 6,
   "id": "978c9166",
   "metadata": {},
   "outputs": [
    {
     "data": {
      "text/plain": [
       "(5, 3)"
      ]
     },
     "execution_count": 6,
     "metadata": {},
     "output_type": "execute_result"
    }
   ],
   "source": [
    "a.shape"
   ]
  },
  {
   "cell_type": "code",
   "execution_count": 7,
   "id": "f8b8e1ea",
   "metadata": {},
   "outputs": [
    {
     "data": {
      "text/plain": [
       "[[], [], [], [], [], [], [], [], [], [], [], [], []]"
      ]
     },
     "execution_count": 7,
     "metadata": {},
     "output_type": "execute_result"
    }
   ],
   "source": [
    "b = [[]]*13\n",
    "b"
   ]
  },
  {
   "cell_type": "code",
   "execution_count": 8,
   "id": "8e12939b",
   "metadata": {},
   "outputs": [],
   "source": [
    "X = np.array([[1, 2], [3, 4], [1, 2], [3, 4]])"
   ]
  },
  {
   "cell_type": "code",
   "execution_count": 10,
   "id": "7aa544d7",
   "metadata": {},
   "outputs": [],
   "source": [
    "from sklearn.model_selection import KFold"
   ]
  },
  {
   "cell_type": "code",
   "execution_count": 21,
   "id": "f6c28788",
   "metadata": {},
   "outputs": [],
   "source": [
    "kf = KFold(n_splits = 3, shuffle = False)"
   ]
  },
  {
   "cell_type": "code",
   "execution_count": 26,
   "id": "99ef7cdf",
   "metadata": {},
   "outputs": [
    {
     "data": {
      "text/plain": [
       "<generator object _BaseKFold.split at 0x000002CD4D0CA580>"
      ]
     },
     "execution_count": 26,
     "metadata": {},
     "output_type": "execute_result"
    }
   ],
   "source": [
    "kf.split(X)"
   ]
  },
  {
   "cell_type": "code",
   "execution_count": 23,
   "id": "a7615afc",
   "metadata": {},
   "outputs": [
    {
     "data": {
      "text/plain": [
       "<enumerate at 0x2cd49052a40>"
      ]
     },
     "execution_count": 23,
     "metadata": {},
     "output_type": "execute_result"
    }
   ],
   "source": [
    "enumerate(kf.split(X))"
   ]
  },
  {
   "cell_type": "code",
   "execution_count": 24,
   "id": "7f4b8957",
   "metadata": {},
   "outputs": [
    {
     "name": "stdout",
     "output_type": "stream",
     "text": [
      "fold 0\n",
      " Train :index [2 3]\n",
      " Test :index [0 1]\n",
      "fold 1\n",
      " Train :index [0 1 3]\n",
      " Test :index [2]\n",
      "fold 2\n",
      " Train :index [0 1 2]\n",
      " Test :index [3]\n"
     ]
    }
   ],
   "source": [
    "for i, (train_index, test_index) in enumerate(kf.split(X)):\n",
    "    print(f'fold {i}')\n",
    "    print(f\" Train :index {train_index}\")\n",
    "    print(f\" Test :index {test_index}\") \n",
    "          "
   ]
  },
  {
   "cell_type": "code",
   "execution_count": 27,
   "id": "8a43b64f",
   "metadata": {},
   "outputs": [
    {
     "data": {
      "text/plain": [
       "array([ 3. ,  2.5,  2. ,  1.5,  1. ,  0.5,  0. , -0.5, -1. , -1.5, -2. ,\n",
       "       -2.5, -3. ])"
      ]
     },
     "execution_count": 27,
     "metadata": {},
     "output_type": "execute_result"
    }
   ],
   "source": [
    "C_val_exponents = np.linspace(3,-3,13)\n",
    "C_val_exponents"
   ]
  },
  {
   "cell_type": "code",
   "execution_count": 28,
   "id": "b6a6b89a",
   "metadata": {},
   "outputs": [
    {
     "name": "stderr",
     "output_type": "stream",
     "text": [
      "C:\\Users\\sid\\AppData\\Local\\Temp\\ipykernel_21904\\1595218313.py:1: DeprecationWarning: `np.float` is a deprecated alias for the builtin `float`. To silence this warning, use `float` by itself. Doing this will not modify any behavior and is safe. If you specifically wanted the numpy scalar type, use `np.float64` here.\n",
      "Deprecated in NumPy 1.20; for more details and guidance: https://numpy.org/devdocs/release/1.20.0-notes.html#deprecations\n",
      "  C_vals = np.float(10)**C_val_exponents\n"
     ]
    },
    {
     "data": {
      "text/plain": [
       "array([1.00000000e+03, 3.16227766e+02, 1.00000000e+02, 3.16227766e+01,\n",
       "       1.00000000e+01, 3.16227766e+00, 1.00000000e+00, 3.16227766e-01,\n",
       "       1.00000000e-01, 3.16227766e-02, 1.00000000e-02, 3.16227766e-03,\n",
       "       1.00000000e-03])"
      ]
     },
     "execution_count": 28,
     "metadata": {},
     "output_type": "execute_result"
    }
   ],
   "source": [
    "C_vals = np.float(10)**C_val_exponents\n",
    "C_vals"
   ]
  },
  {
   "cell_type": "code",
   "execution_count": 29,
   "id": "c4320feb",
   "metadata": {},
   "outputs": [],
   "source": [
    "from sklearn.metrics import roc_curve"
   ]
  },
  {
   "cell_type": "code",
   "execution_count": 30,
   "id": "afcf5368",
   "metadata": {},
   "outputs": [],
   "source": [
    "def cross_val_C_search(k_folds, C_vals, model, X, Y):\n",
    "    \n",
    "    n_folds = k_folds.n_splits\n",
    "    cv_train_roc_auc = np.empty((n_folds, len(C_vals)))\n",
    "    cv_test_roc_auc = np.empty((n_folds, len(C_vals)))\n",
    "    cv_test_roc = [[]]*len(C_vals)\n",
    "\n",
    "    for c_val_counter in range(len(C_vals)):\n",
    "        #Set the C value for the model object\n",
    "        model.C = C_vals[c_val_counter]\n",
    "        #Count folds for each value of C\n",
    "        fold_counter = 0\n",
    "        #Get training and testing indices for each fold\n",
    "        for train_index, test_index in k_folds.split(X, Y):\n",
    "            #Subset the features and response, for training and testing data for\n",
    "            #this fold\n",
    "            X_cv_train, X_cv_test = X[train_index], X[test_index]\n",
    "            y_cv_train, y_cv_test = Y[train_index], Y[test_index]\n",
    "\n",
    "            #Fit the model on the training data\n",
    "            model.fit(X_cv_train, y_cv_train)\n",
    "\n",
    "            #Get the training ROC AUC\n",
    "            y_cv_train_predict_proba = model.predict_proba(X_cv_train)\n",
    "            cv_train_roc_auc[fold_counter, c_val_counter] = \\\n",
    "            roc_auc_score(y_cv_train, y_cv_train_predict_proba[:,1])\n",
    "\n",
    "            #Get the test ROC AUC\n",
    "            y_cv_test_predict_proba = model.predict_proba(X_cv_test)\n",
    "            cv_test_roc_auc[fold_counter, c_val_counter] = \\\n",
    "            roc_auc_score(y_cv_test, y_cv_test_predict_proba[:,1])\n",
    "\n",
    "            #Test ROC curves for each fold\n",
    "            this_fold_roc = roc_curve(y_cv_test, y_cv_test_predict_proba[:,1])\n",
    "            cv_test_roc[c_val_counter].append(this_fold_roc)\n",
    "\n",
    "            #Increment the fold counter\n",
    "            fold_counter += 1\n",
    "\n",
    "        #Indicate progress\n",
    "        print('Done with C = {}'.format(lr_syn.C))\n",
    "\n",
    "    return cv_train_roc_auc, cv_test_roc_auc, cv_test_roc"
   ]
  },
  {
   "cell_type": "code",
   "execution_count": 33,
   "id": "ae181137",
   "metadata": {},
   "outputs": [],
   "source": [
    "x_sythetic, y_synthetic = make_classification(n_samples = 1000,\n",
    "                                              n_features = 200,\n",
    "                                              n_informative = 3,\n",
    "                                              n_redundant= 10,\n",
    "                                              n_repeated = 0,\n",
    "                                              n_classes = 2,\n",
    "                                              n_clusters_per_class = 2,\n",
    "                                              weights = None,\n",
    "                                              flip_y = 0.01,\n",
    "                                              class_sep = 0.8,\n",
    "                                              hypercube = True,\n",
    "                                              shift = 0.0,\n",
    "                                              scale = 1.0,\n",
    "                                              shuffle = True,\n",
    "                                              random_state= 24\n",
    "                                             )"
   ]
  },
  {
   "cell_type": "code",
   "execution_count": 38,
   "id": "99af1584",
   "metadata": {},
   "outputs": [],
   "source": [
    "X_syn_train, X_syn_test,y_syn_train, y_syn_test = train_test_split(x_sythetic, y_synthetic, test_size = 0.2, random_state = 24)"
   ]
  },
  {
   "cell_type": "code",
   "execution_count": 39,
   "id": "8ea722b6",
   "metadata": {},
   "outputs": [],
   "source": [
    "lr_syn = LogisticRegression(solver = 'liblinear', penalty = 'l1', C = 1000, random_state= 1)"
   ]
  },
  {
   "cell_type": "code",
   "execution_count": 40,
   "id": "d768dc20",
   "metadata": {},
   "outputs": [
    {
     "name": "stdout",
     "output_type": "stream",
     "text": [
      "Done with C = 1000.0\n",
      "Done with C = 316.22776601683796\n",
      "Done with C = 100.0\n",
      "Done with C = 31.622776601683793\n",
      "Done with C = 10.0\n",
      "Done with C = 3.1622776601683795\n",
      "Done with C = 1.0\n",
      "Done with C = 0.31622776601683794\n",
      "Done with C = 0.1\n",
      "Done with C = 0.03162277660168379\n",
      "Done with C = 0.01\n",
      "Done with C = 0.0031622776601683794\n",
      "Done with C = 0.001\n",
      "Wall time: 10.1 s\n"
     ]
    }
   ],
   "source": [
    "%%time\n",
    "n_folds = 4\n",
    "k_folds = KFold(n_splits = n_folds, shuffle = False)\n",
    "cv_train_roc_auc, cv_test_roc_auc, cv_test_roc = \\\n",
    "cross_val_C_search(k_folds, C_vals, lr_syn, X_syn_train, y_syn_train)"
   ]
  },
  {
   "cell_type": "code",
   "execution_count": 42,
   "id": "9c8fc0e4",
   "metadata": {},
   "outputs": [
    {
     "data": {
      "text/plain": [
       "Text(0.5, 1.0, 'Cross-validation scores for each fold')"
      ]
     },
     "execution_count": 42,
     "metadata": {},
     "output_type": "execute_result"
    },
    {
     "data": {
      "image/png": "[encoded data removed]",
      "text/plain": [
       "<Figure size 640x480 with 1 Axes>"
      ]
     },
     "metadata": {},
     "output_type": "display_data"
    }
   ],
   "source": [
    "for this_fold in range(k_folds.n_splits):\n",
    "    plt.plot(C_val_exponents, cv_train_roc_auc[this_fold], '-o',\n",
    "             \n",
    "             label='Training fold {}'.format(this_fold+1))\n",
    "    plt.plot(C_val_exponents, cv_test_roc_auc[this_fold], '-x',\n",
    "            \n",
    "             label='Testing fold {}'.format(this_fold+1))\n",
    "plt.ylabel('ROC AUC')\n",
    "plt.xlabel('log$_{10}$(C)')\n",
    "plt.legend(loc = [1.1, 0.2])\n",
    "plt.title('Cross-validation scores for each fold')"
   ]
  },
  {
   "cell_type": "code",
   "execution_count": null,
   "id": "f8ffb990",
   "metadata": {},
   "outputs": [],
   "source": []
  }
 ],
 "metadata": {
  "kernelspec": {
   "display_name": "Python 3 (ipykernel)",
   "language": "python",
   "name": "python3"
  },
  "language_info": {
   "codemirror_mode": {
    "name": "ipython",
    "version": 3
   },
   "file_extension": ".py",
   "mimetype": "text/x-python",
   "name": "python",
   "nbconvert_exporter": "python",
   "pygments_lexer": "ipython3",
   "version": "3.9.13"
  }
 },
 "nbformat": 4,
 "nbformat_minor": 5
}
