{
 "cells": [
  {
   "cell_type": "code",
   "execution_count": 1,
   "id": "b1efba74",
   "metadata": {},
   "outputs": [],
   "source": [
    "from sklearn.model_selection import train_test_split\n",
    "from sklearn.linear_model import LogisticRegression\n",
    "from sklearn.metrics import roc_auc_score\n",
    "from sklearn.datasets import make_classification\n",
    "import numpy as np\n",
    "import matplotlib.pyplot as plt\n"
   ]
  },
  {
   "cell_type": "code",
   "execution_count": 2,
   "id": "d4016243",
   "metadata": {},
   "outputs": [
    {
     "data": {
      "text/plain": [
       "array([ 3. ,  2.5,  2. ,  1.5,  1. ,  0.5,  0. , -0.5, -1. , -1.5, -2. ,\n",
       "       -2.5, -3. ])"
      ]
     },
     "execution_count": 2,
     "metadata": {},
     "output_type": "execute_result"
    }
   ],
   "source": [
    "C_val_exponents = np.linspace(3,-3,13)\n",
    "C_val_exponents"
   ]
  },
  {
   "cell_type": "code",
   "execution_count": 4,
   "id": "1855bc82",
   "metadata": {},
   "outputs": [
    {
     "name": "stderr",
     "output_type": "stream",
     "text": [
      "C:\\Users\\sid\\AppData\\Local\\Temp\\ipykernel_14060\\1595218313.py:1: DeprecationWarning: `np.float` is a deprecated alias for the builtin `float`. To silence this warning, use `float` by itself. Doing this will not modify any behavior and is safe. If you specifically wanted the numpy scalar type, use `np.float64` here.\n",
      "Deprecated in NumPy 1.20; for more details and guidance: https://numpy.org/devdocs/release/1.20.0-notes.html#deprecations\n",
      "  C_vals = np.float(10)**C_val_exponents\n"
     ]
    },
    {
     "data": {
      "text/plain": [
       "array([1.00000000e+03, 3.16227766e+02, 1.00000000e+02, 3.16227766e+01,\n",
       "       1.00000000e+01, 3.16227766e+00, 1.00000000e+00, 3.16227766e-01,\n",
       "       1.00000000e-01, 3.16227766e-02, 1.00000000e-02, 3.16227766e-03,\n",
       "       1.00000000e-03])"
      ]
     },
     "execution_count": 4,
     "metadata": {},
     "output_type": "execute_result"
    }
   ],
   "source": [
    "C_vals = np.float(10)**C_val_exponents\n",
    "C_vals"
   ]
  },
  {
   "cell_type": "code",
   "execution_count": 5,
   "id": "06038e7d",
   "metadata": {},
   "outputs": [],
   "source": [
    "from sklearn.metrics import roc_curve"
   ]
  },
  {
   "cell_type": "code",
   "execution_count": 8,
   "id": "664b33ba",
   "metadata": {},
   "outputs": [],
   "source": [
    "def cross_val_C_search(k_folds, C_vals, model, X,Y):\n",
    "    \n",
    "    n_folds = k_folds.n_splits\n",
    "    cv_train_roc_auc = np.empty((n_folds, len(C_vals)))\n",
    "    cv_test_roc_auc = np.empty((n_folds, len(C_vals)))\n",
    "    \n",
    "    cv_test_roc = [[]]*len(C_vals)\n",
    "    \n",
    "    for c_val_counter in range(len(C_vals)):\n",
    "        model.C = C_vals[c_val_counter]\n",
    "        fold_counter = 0\n",
    "        \n",
    "        \n",
    "    for train_index, test_index in k_folds.split(X,Y):\n",
    "        X_cv_train, X_cv_test = X[train_index], X[test_index]\n",
    "        y_cv_train, y_cv_test = Y[train_index], Y[test_index]\n",
    "        \n",
    "        model.fit(X_cv_train, y_cv_train)\n",
    "        \n",
    "        \n",
    "        y_cv_train_predict_prob = model.predict_prob(X_cv_train)\n",
    "        cv_train_roc_auc[fold_counter, c_val_counter] = roc_auc_score(y_cv_train, y_cv_train_predict_prob[:,1])\n",
    "        \n",
    "        \n",
    "        y_cv_test_predict_prob  = model.predict_prob(X_cv_test)\n",
    "        cv_test_roc_auc[fold_counter, c_val_counter] = roc_auc_score(y_cv_test, y_cv_test_pred_prob[:,1])\n",
    "        \n",
    "        \n",
    "        \n",
    "        this_fold_roc = roc_curve(y_cv_test, y_cv_test_predict_prob[:,1])\n",
    "        cv_test_roc[c_val_counter].append(this_fold_roc)\n",
    "        \n",
    "        fold_counter = +1\n",
    "        \n",
    "        print('Done with C = {}'.format(lr_syn.C))\n",
    "        \n",
    "    for this_fold in range(k_folds, n_splits):\n",
    "        plt.plot(C_val_exponents, cv_train_roc_auc[this_fold], 'o', color = cmap(this_fold))\n",
    "        plt.plot(C_val_exponents, cv_test_roc_auc[this_fold], '-x', color = cmap(this_fold), label = 'Testing fold{}'.format(this_fold+1))\n",
    "        \n",
    "    return cv_train_roc_auc, cv_test_roc_auc, cv_test_roc\n",
    "    "
   ]
  },
  {
   "cell_type": "code",
   "execution_count": 7,
   "id": "63182f97",
   "metadata": {},
   "outputs": [
    {
     "ename": "NameError",
     "evalue": "name 'n_folds' is not defined",
     "output_type": "error",
     "traceback": [
      "\u001b[1;31m---------------------------------------------------------------------------\u001b[0m",
      "\u001b[1;31mNameError\u001b[0m                                 Traceback (most recent call last)",
      "\u001b[1;32m~\\AppData\\Local\\Temp\\ipykernel_14060\\204392984.py\u001b[0m in \u001b[0;36m<module>\u001b[1;34m\u001b[0m\n\u001b[1;32m----> 1\u001b[1;33m \u001b[0mcv_train_roc_auc\u001b[0m \u001b[1;33m=\u001b[0m \u001b[0mnp\u001b[0m\u001b[1;33m.\u001b[0m\u001b[0mempty\u001b[0m\u001b[1;33m(\u001b[0m\u001b[1;33m(\u001b[0m\u001b[0mn_folds\u001b[0m\u001b[1;33m,\u001b[0m \u001b[0mlen\u001b[0m\u001b[1;33m(\u001b[0m\u001b[0mC_vals\u001b[0m\u001b[1;33m)\u001b[0m\u001b[1;33m)\u001b[0m\u001b[1;33m)\u001b[0m\u001b[1;33m\u001b[0m\u001b[1;33m\u001b[0m\u001b[0m\n\u001b[0m",
      "\u001b[1;31mNameError\u001b[0m: name 'n_folds' is not defined"
     ]
    }
   ],
   "source": [
    " cv_train_roc_auc = np.empty((n_folds, len(C_vals)))"
   ]
  },
  {
   "cell_type": "code",
   "execution_count": null,
   "id": "2223389c",
   "metadata": {},
   "outputs": [],
   "source": []
  }
 ],
 "metadata": {
  "kernelspec": {
   "display_name": "Python 3 (ipykernel)",
   "language": "python",
   "name": "python3"
  },
  "language_info": {
   "codemirror_mode": {
    "name": "ipython",
    "version": 3
   },
   "file_extension": ".py",
   "mimetype": "text/x-python",
   "name": "python",
   "nbconvert_exporter": "python",
   "pygments_lexer": "ipython3",
   "version": "3.9.13"
  }
 },
 "nbformat": 4,
 "nbformat_minor": 5
}
