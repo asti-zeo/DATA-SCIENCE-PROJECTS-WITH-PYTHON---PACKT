{
 "cells": [
  {
   "cell_type": "code",
   "execution_count": 46,
   "id": "acaed842",
   "metadata": {},
   "outputs": [],
   "source": [
    "from sklearn.model_selection import train_test_split\n",
    "import pandas as pd\n",
    "import numpy as np\n",
    "import matplotlib.pyplot as plt\n",
    "from sklearn import metrics"
   ]
  },
  {
   "cell_type": "code",
   "execution_count": 4,
   "id": "5a4f3530",
   "metadata": {},
   "outputs": [],
   "source": [
    "df = pd.read_csv('df_final_chapter_1.csv')"
   ]
  },
  {
   "cell_type": "code",
   "execution_count": 33,
   "id": "3b303f7d",
   "metadata": {},
   "outputs": [],
   "source": [
    "x_train, x_test, y_train, y_test = train_test_split(df['LIMIT_BAL'].values.reshape(-1,1), df['default payment next month'], test_size = 0.2 , random_state = 24)"
   ]
  },
  {
   "cell_type": "markdown",
   "id": "72bba240",
   "metadata": {},
   "source": [
    "### answer for why we need to reshape the feature\n",
    "https://stackoverflow.com/questions/51150153/valueerror-expected-2d-array-got-1d-array-instead"
   ]
  },
  {
   "cell_type": "code",
   "execution_count": 34,
   "id": "d4867e44",
   "metadata": {},
   "outputs": [
    {
     "data": {
      "text/plain": [
       "14306    0\n",
       "2978     0\n",
       "16641    0\n",
       "18580    1\n",
       "131      0\n",
       "        ..\n",
       "18160    0\n",
       "19779    0\n",
       "6666     0\n",
       "18990    0\n",
       "23253    1\n",
       "Name: default payment next month, Length: 5333, dtype: int64"
      ]
     },
     "execution_count": 34,
     "metadata": {},
     "output_type": "execute_result"
    }
   ],
   "source": [
    "y_test"
   ]
  },
  {
   "cell_type": "code",
   "execution_count": 35,
   "id": "7fc50940",
   "metadata": {},
   "outputs": [
    {
     "data": {
      "text/plain": [
       "(26664,)"
      ]
     },
     "execution_count": 35,
     "metadata": {},
     "output_type": "execute_result"
    }
   ],
   "source": [
    "df['LIMIT_BAL'].shape"
   ]
  },
  {
   "cell_type": "code",
   "execution_count": 36,
   "id": "a6362684",
   "metadata": {},
   "outputs": [
    {
     "data": {
      "text/plain": [
       "(26664,)"
      ]
     },
     "execution_count": 36,
     "metadata": {},
     "output_type": "execute_result"
    }
   ],
   "source": [
    "df['default payment next month'].shape"
   ]
  },
  {
   "cell_type": "code",
   "execution_count": 37,
   "id": "4fe899d1",
   "metadata": {},
   "outputs": [
    {
     "data": {
      "text/plain": [
       "(26664, 1)"
      ]
     },
     "execution_count": 37,
     "metadata": {},
     "output_type": "execute_result"
    }
   ],
   "source": [
    "df['LIMIT_BAL'].values.reshape(-1,1).shape"
   ]
  },
  {
   "cell_type": "code",
   "execution_count": 70,
   "id": "99491a10",
   "metadata": {},
   "outputs": [
    {
     "data": {
      "text/plain": [
       "5914"
      ]
     },
     "execution_count": 70,
     "metadata": {},
     "output_type": "execute_result"
    }
   ],
   "source": [
    " sum(df['default payment next month'].values)"
   ]
  },
  {
   "cell_type": "code",
   "execution_count": 72,
   "id": "69443e83",
   "metadata": {},
   "outputs": [
    {
     "data": {
      "text/plain": [
       "26664"
      ]
     },
     "execution_count": 72,
     "metadata": {},
     "output_type": "execute_result"
    }
   ],
   "source": [
    "df['default payment next month'].values.shape[0]"
   ]
  },
  {
   "cell_type": "code",
   "execution_count": 39,
   "id": "cb3d030b",
   "metadata": {},
   "outputs": [],
   "source": [
    "from sklearn.linear_model import LogisticRegression"
   ]
  },
  {
   "cell_type": "code",
   "execution_count": 40,
   "id": "a0bd693c",
   "metadata": {},
   "outputs": [],
   "source": [
    "log_reg = LogisticRegression(C = 0.1 , solver = 'liblinear')"
   ]
  },
  {
   "cell_type": "code",
   "execution_count": 41,
   "id": "728e47f0",
   "metadata": {},
   "outputs": [],
   "source": [
    "## https://stackoverflow.com/questions/38640109/logistic-regression-python-solvers-definitions"
   ]
  },
  {
   "cell_type": "code",
   "execution_count": 42,
   "id": "6cd1ae9e",
   "metadata": {},
   "outputs": [
    {
     "data": {
      "text/plain": [
       "LogisticRegression(C=0.1, solver='liblinear')"
      ]
     },
     "execution_count": 42,
     "metadata": {},
     "output_type": "execute_result"
    }
   ],
   "source": [
    "log_reg.fit(x_train, y_train)"
   ]
  },
  {
   "cell_type": "code",
   "execution_count": 43,
   "id": "7df7b589",
   "metadata": {},
   "outputs": [],
   "source": [
    "y_pred = log_reg.predict(x_test)"
   ]
  },
  {
   "cell_type": "code",
   "execution_count": 44,
   "id": "c872cc93",
   "metadata": {},
   "outputs": [],
   "source": [
    "is_correct =  y_test == y_pred"
   ]
  },
  {
   "cell_type": "code",
   "execution_count": 45,
   "id": "78ae7dc5",
   "metadata": {},
   "outputs": [
    {
     "data": {
      "text/plain": [
       "0.7834239639977498"
      ]
     },
     "execution_count": 45,
     "metadata": {},
     "output_type": "execute_result"
    }
   ],
   "source": [
    "np.mean(is_correct)"
   ]
  },
  {
   "cell_type": "code",
   "execution_count": 47,
   "id": "e6d89c5a",
   "metadata": {},
   "outputs": [
    {
     "data": {
      "text/plain": [
       "0.7834239639977498"
      ]
     },
     "execution_count": 47,
     "metadata": {},
     "output_type": "execute_result"
    }
   ],
   "source": [
    "metrics.accuracy_score(y_pred, y_test)"
   ]
  },
  {
   "cell_type": "code",
   "execution_count": 51,
   "id": "bb12871e",
   "metadata": {},
   "outputs": [
    {
     "data": {
      "text/plain": [
       "array([0, 0, 0, ..., 0, 0, 0], dtype=int64)"
      ]
     },
     "execution_count": 51,
     "metadata": {},
     "output_type": "execute_result"
    }
   ],
   "source": [
    "y_pred "
   ]
  },
  {
   "cell_type": "code",
   "execution_count": 54,
   "id": "2644f718",
   "metadata": {},
   "outputs": [
    {
     "data": {
      "text/plain": [
       "1155"
      ]
     },
     "execution_count": 54,
     "metadata": {},
     "output_type": "execute_result"
    }
   ],
   "source": [
    "P = sum(y_test)\n",
    "P"
   ]
  },
  {
   "cell_type": "code",
   "execution_count": 57,
   "id": "85f89b19",
   "metadata": {},
   "outputs": [
    {
     "data": {
      "text/plain": [
       "0"
      ]
     },
     "execution_count": 57,
     "metadata": {},
     "output_type": "execute_result"
    }
   ],
   "source": [
    "TP = sum((y_test == 1)&(y_pred ==1))\n",
    "TP"
   ]
  },
  {
   "cell_type": "code",
   "execution_count": 59,
   "id": "e360cb44",
   "metadata": {},
   "outputs": [
    {
     "data": {
      "text/plain": [
       "4178"
      ]
     },
     "execution_count": 59,
     "metadata": {},
     "output_type": "execute_result"
    }
   ],
   "source": [
    "N = sum(y_test == 0)\n",
    "N"
   ]
  },
  {
   "cell_type": "code",
   "execution_count": 61,
   "id": "4934d119",
   "metadata": {},
   "outputs": [
    {
     "data": {
      "text/plain": [
       "5333"
      ]
     },
     "execution_count": 61,
     "metadata": {},
     "output_type": "execute_result"
    }
   ],
   "source": [
    "N+P"
   ]
  },
  {
   "cell_type": "code",
   "execution_count": 62,
   "id": "6699706b",
   "metadata": {},
   "outputs": [
    {
     "data": {
      "text/plain": [
       "4178"
      ]
     },
     "execution_count": 62,
     "metadata": {},
     "output_type": "execute_result"
    }
   ],
   "source": [
    "TN = sum((y_test == 0)&(y_pred == 0))\n",
    "TN"
   ]
  },
  {
   "cell_type": "code",
   "execution_count": 63,
   "id": "14cb97c5",
   "metadata": {},
   "outputs": [],
   "source": [
    "FP = sum((y_test == 0)& (y_pred == 1))"
   ]
  },
  {
   "cell_type": "code",
   "execution_count": 64,
   "id": "02fb4077",
   "metadata": {},
   "outputs": [
    {
     "data": {
      "text/plain": [
       "array([[4178,    0],\n",
       "       [1155,    0]], dtype=int64)"
      ]
     },
     "execution_count": 64,
     "metadata": {},
     "output_type": "execute_result"
    }
   ],
   "source": [
    "metrics.confusion_matrix(y_test, y_pred)"
   ]
  },
  {
   "cell_type": "code",
   "execution_count": 67,
   "id": "cb653c41",
   "metadata": {},
   "outputs": [
    {
     "data": {
      "text/plain": [
       "array([[0.74826924, 0.25173076],\n",
       "       [0.584297  , 0.415703  ],\n",
       "       [0.79604453, 0.20395547],\n",
       "       ...,\n",
       "       [0.584297  , 0.415703  ],\n",
       "       [0.82721498, 0.17278502],\n",
       "       [0.66393434, 0.33606566]])"
      ]
     },
     "execution_count": 67,
     "metadata": {},
     "output_type": "execute_result"
    }
   ],
   "source": [
    "y_pred_prob = log_reg.predict_proba(x_test)\n",
    "y_pred_prob"
   ]
  },
  {
   "cell_type": "code",
   "execution_count": 73,
   "id": "51b0591c",
   "metadata": {},
   "outputs": [
    {
     "data": {
      "text/plain": [
       "(5333, 2)"
      ]
     },
     "execution_count": 73,
     "metadata": {},
     "output_type": "execute_result"
    }
   ],
   "source": [
    "y_pred_prob.shape"
   ]
  },
  {
   "cell_type": "code",
   "execution_count": 75,
   "id": "4a04fba9",
   "metadata": {},
   "outputs": [
    {
     "data": {
      "text/plain": [
       "array([0.25173076, 0.415703  , 0.20395547, ..., 0.415703  , 0.17278502,\n",
       "       0.33606566])"
      ]
     },
     "execution_count": 75,
     "metadata": {},
     "output_type": "execute_result"
    }
   ],
   "source": [
    "pos_prob = y_pred_prob[:,1]\n",
    "pos_prob"
   ]
  },
  {
   "cell_type": "code",
   "execution_count": 76,
   "id": "1a1223e4",
   "metadata": {},
   "outputs": [
    {
     "data": {
      "text/plain": [
       "(array([280., 509., 414., 538., 587., 610., 412., 491., 782., 710.]),\n",
       " array([0.00644178, 0.05409607, 0.10175036, 0.14940464, 0.19705893,\n",
       "        0.24471322, 0.29236751, 0.34002179, 0.38767608, 0.43533037,\n",
       "        0.48298465]),\n",
       " <BarContainer object of 10 artists>)"
      ]
     },
     "execution_count": 76,
     "metadata": {},
     "output_type": "execute_result"
    },
    {
     "data": {
      "image/png": "[encoded data removed]",
      "text/plain": [
       "<Figure size 640x480 with 1 Axes>"
      ]
     },
     "metadata": {},
     "output_type": "display_data"
    }
   ],
   "source": [
    "plt.hist(pos_prob)"
   ]
  },
  {
   "cell_type": "code",
   "execution_count": 77,
   "id": "e29aa955",
   "metadata": {},
   "outputs": [
    {
     "data": {
      "text/plain": [
       "0.6201990844642832"
      ]
     },
     "execution_count": 77,
     "metadata": {},
     "output_type": "execute_result"
    }
   ],
   "source": [
    "metrics.roc_auc_score(y_test, pos_prob)"
   ]
  },
  {
   "cell_type": "code",
   "execution_count": 78,
   "id": "b3666320",
   "metadata": {},
   "outputs": [
    {
     "data": {
      "text/plain": [
       "14306    0\n",
       "2978     0\n",
       "16641    0\n",
       "18580    1\n",
       "131      0\n",
       "        ..\n",
       "18160    0\n",
       "19779    0\n",
       "6666     0\n",
       "18990    0\n",
       "23253    1\n",
       "Name: default payment next month, Length: 5333, dtype: int64"
      ]
     },
     "execution_count": 78,
     "metadata": {},
     "output_type": "execute_result"
    }
   ],
   "source": [
    "y_test"
   ]
  },
  {
   "cell_type": "code",
   "execution_count": 82,
   "id": "5e78063a",
   "metadata": {},
   "outputs": [],
   "source": [
    "precision, recall, threshold = metrics.precision_recall_curve(y_test, pos_prob)"
   ]
  },
  {
   "cell_type": "code",
   "execution_count": 97,
   "id": "cbf277b1",
   "metadata": {},
   "outputs": [
    {
     "data": {
      "text/plain": [
       "[<matplotlib.lines.Line2D at 0x175cc903790>]"
      ]
     },
     "execution_count": 97,
     "metadata": {},
     "output_type": "execute_result"
    },
    {
     "data": {
      "image/png": "[encoded data removed]",
      "text/plain": [
       "<Figure size 640x480 with 1 Axes>"
      ]
     },
     "metadata": {},
     "output_type": "display_data"
    }
   ],
   "source": [
    "plt.plot(recall,precision,\"-x\")"
   ]
  },
  {
   "cell_type": "code",
   "execution_count": 92,
   "id": "f4e301f4",
   "metadata": {},
   "outputs": [],
   "source": [
    "from scipy.integrate import simps"
   ]
  },
  {
   "cell_type": "code",
   "execution_count": 95,
   "id": "1c5bf7fd",
   "metadata": {},
   "outputs": [
    {
     "data": {
      "text/plain": [
       "-0.302692949480106"
      ]
     },
     "execution_count": 95,
     "metadata": {},
     "output_type": "execute_result"
    }
   ],
   "source": [
    "area_under_curve = simps(precision,recall)\n",
    "area_under_curve"
   ]
  },
  {
   "cell_type": "code",
   "execution_count": 98,
   "id": "5b75a48f",
   "metadata": {},
   "outputs": [
    {
     "data": {
      "text/plain": [
       "0.31566964427378624"
      ]
     },
     "execution_count": 98,
     "metadata": {},
     "output_type": "execute_result"
    }
   ],
   "source": [
    "metrics.auc(recall,precision)"
   ]
  },
  {
   "cell_type": "code",
   "execution_count": 99,
   "id": "d1ff8244",
   "metadata": {},
   "outputs": [],
   "source": [
    "fpr, tpr, thresholds = metrics.roc_curve(y_test, pos_prob)"
   ]
  },
  {
   "cell_type": "code",
   "execution_count": 106,
   "id": "dab0837d",
   "metadata": {},
   "outputs": [
    {
     "data": {
      "text/plain": [
       "[<matplotlib.lines.Line2D at 0x175ccaf1d60>]"
      ]
     },
     "execution_count": 106,
     "metadata": {},
     "output_type": "execute_result"
    },
    {
     "data": {
      "image/png": "[encoded data removed]",
      "text/plain": [
       "<Figure size 640x480 with 1 Axes>"
      ]
     },
     "metadata": {},
     "output_type": "display_data"
    }
   ],
   "source": [
    "plt.plot(fpr, tpr,'-.')\n",
    "plt.plot([0,1],[0,1],'r--')"
   ]
  },
  {
   "cell_type": "code",
   "execution_count": 110,
   "id": "8d6220dc",
   "metadata": {},
   "outputs": [],
   "source": [
    "y_train_pred_prob = log_reg.predict_proba(x_train)"
   ]
  },
  {
   "cell_type": "code",
   "execution_count": 111,
   "id": "c5fe4316",
   "metadata": {},
   "outputs": [
    {
     "data": {
      "text/plain": [
       "0.6182918113358344"
      ]
     },
     "execution_count": 111,
     "metadata": {},
     "output_type": "execute_result"
    }
   ],
   "source": [
    "metrics.roc_auc_score(y_train, y_train_pred_prob[:,1])"
   ]
  },
  {
   "cell_type": "code",
   "execution_count": null,
   "id": "f7d2b5c7",
   "metadata": {},
   "outputs": [],
   "source": []
  }
 ],
 "metadata": {
  "kernelspec": {
   "display_name": "Python 3 (ipykernel)",
   "language": "python",
   "name": "python3"
  },
  "language_info": {
   "codemirror_mode": {
    "name": "ipython",
    "version": 3
   },
   "file_extension": ".py",
   "mimetype": "text/x-python",
   "name": "python",
   "nbconvert_exporter": "python",
   "pygments_lexer": "ipython3",
   "version": "3.9.13"
  }
 },
 "nbformat": 4,
 "nbformat_minor": 5
}
